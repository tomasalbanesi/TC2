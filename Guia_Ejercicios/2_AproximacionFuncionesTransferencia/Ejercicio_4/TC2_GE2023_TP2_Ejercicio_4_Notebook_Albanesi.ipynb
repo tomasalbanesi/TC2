{
 "cells": [
  {
   "cell_type": "markdown",
   "id": "7c8aa423-8416-47d2-8e09-f698dcbbaf37",
   "metadata": {},
   "source": [
    "<img src=\"./img/logo_UTN.svg\" align=\"right\" width=\"150\" /> \n",
    "\n",
    "#### Teoría de los Circuitos 2\n",
    "\n",
    "# Guia de Ejercicios - 2023\n",
    "## Aproximacion de funciones transferencia - Ejercicio N°4\n",
    "#### Por Tomas A. Albanesi"
   ]
  },
  {
   "cell_type": "markdown",
   "id": "633ae8bf-c1c4-424e-b7f1-eb58fa909607",
   "metadata": {},
   "source": [
    "## Indice de contenidos\n",
    "\n"
   ]
  },
  {
   "cell_type": "markdown",
   "id": "b2437f67-d3bf-4914-bd84-9c37b4a0f243",
   "metadata": {},
   "source": [
    "## Consigna\n",
    "\n",
    "<img src=\"./img/consigna.png\" width=\"700\" /> "
   ]
  },
  {
   "cell_type": "markdown",
   "id": "b2e60de2-1942-4746-ae2d-7a6242c71e6e",
   "metadata": {},
   "source": [
    "## Desarrollo analitico"
   ]
  },
  {
   "cell_type": "markdown",
   "id": "3b30a722-02f4-4393-a929-94b5a60fe0b6",
   "metadata": {},
   "source": [
    "Primero debemos transformar la plantilla del filtro pasa-altos a una plantilla para el filtro pasa-bajos prototipo, que es el filtro que sabemos utilizar. Además, normalizamos la plantilla en frecuencia, tomando como norma de frecuencia $\\Omega_{\\omega} = 2\\pi f_p$\n",
    "\n",
    "Es por esto que las frecuencias normalizadas nos quedaran de la siguiente forma:\n",
    "\n",
    "\\begin{equation}\n",
    "\\omega_{p}^{lp} = 1\n",
    "\\end{equation}\n",
    "\n",
    "\\begin{equation}\n",
    "\\omega_{s}^{lp} = 3.5\n",
    "\\end{equation}\n",
    "\n",
    "* Notar que el simbolo $\\omega^{lp}$ significa la frecuencia, ya sea de paso o de corte, del filtro equivalente pasa bajos. A partir de ahora llamaremos simplemente $\\omega$, pero siempre recordando que estamos hablando de la frecuencia angular del filtro pasa bajos equivalente."
   ]
  },
  {
   "cell_type": "markdown",
   "id": "a2926eb5-a982-4b66-8eb4-6d99d08e9abb",
   "metadata": {},
   "source": [
    "A continuación, planteamos la función de aproximación por máxima planicidad para el pasabajos:\n",
    "\n",
    "$|T_{(j\\Omega)}|^2=\\frac{1}{1+\\epsilon^2 . \\omega^{2 . n}}$\n",
    "\n",
    "Calculamos el $\\epsilon$ como:\n",
    "\n",
    "$\\epsilon^2 = 10^{\\frac{\\alpha_{Máx}}{10}}-1$"
   ]
  },
  {
   "cell_type": "code",
   "execution_count": 2,
   "id": "77057388-9672-4e25-87b7-8697da17ae85",
   "metadata": {
    "tags": []
   },
   "outputs": [
    {
     "name": "stdout",
     "output_type": "stream",
     "text": [
      "ee = 0.2589254117941673\n",
      "e = 0.5088471399095875\n"
     ]
    }
   ],
   "source": [
    "import numpy as np\n",
    "alpha_max = 1\n",
    "ee = 10**(alpha_max/10)-1\n",
    "e = np.sqrt(ee)\n",
    "print(f'ee = {ee}')\n",
    "print(f'e = {e}')"
   ]
  },
  {
   "cell_type": "markdown",
   "id": "c0f39ea4-ec74-4b55-bc4f-91ebb62cc893",
   "metadata": {
    "tags": []
   },
   "source": [
    "Luego podemos hallar n (el orden del filtro) iterando en la ecuación:\n",
    "\n",
    "$\\alpha_{min-n} = 10 . log(1 + \\epsilon^2 . \\omega_s^{2.n})$"
   ]
  },
  {
   "cell_type": "code",
   "execution_count": 5,
   "id": "02d2aeee-3d3e-4420-90ed-96c1af63a646",
   "metadata": {
    "tags": []
   },
   "outputs": [
    {
     "name": "stdout",
     "output_type": "stream",
     "text": [
      "para n = 1: alpha = 6.203272580959268\n",
      "para n = 2: alpha = 16.004827547031187\n",
      "para n = 3: alpha = 26.784944183800718\n",
      "para n = 4: alpha = 37.657935084281895\n",
      "para n = 5: alpha = 48.53861199438661\n"
     ]
    }
   ],
   "source": [
    "ws = 3.5\n",
    "for n in range(1,6):\n",
    "    alpha = 10 * np.log10(1+ee*ws**(2*n))\n",
    "    print(f'para n = {n}: alpha = {alpha}')"
   ]
  },
  {
   "cell_type": "markdown",
   "id": "c56729e0-8093-4175-9991-bed7c7a93c7a",
   "metadata": {},
   "source": [
    "Nos quedamos con $n = 4$ que es el menor orden que cumple con la condición de $\\alpha_{min}$"
   ]
  },
  {
   "cell_type": "markdown",
   "id": "87c8662c-0ab5-4905-bdd4-d266ad06a17a",
   "metadata": {},
   "source": [
    "Aplicamos una renormalización para poder trabajar el filtro con la función de aproximación de Butterworth, ya que el $\\epsilon^2$ nos dio un valor distinto a 1.\n",
    "\n",
    "$|T_{(j\\Omega)}|^2=\\frac{1}{1+\\epsilon^2 . \\Omega^{2 . n}}$\n",
    "\n",
    "$|T_{(j\\omega)}|^2=\\frac{1}{1+\\epsilon^2 . (\\frac{\\Omega_{\\omega}}{\\omega})^{2 . n}}$\n",
    "\n",
    "Para obtener $\\omega_b$ debe considerarse $\\epsilon^{\\frac{1}{n}}$ para el pasa altos, a diferencia del pasabajos donde debíamos hacer $\\epsilon^{\\frac{-1}{n}}$.\n",
    "\n",
    "A partir de acá, se puede tratar la función como una aproximación de Butterworth. Los polos serán 2 pares de polos complejos conjugados que quedarán sobre una circunferencia de radio unitario con una separación entre sí de $\\frac{\\pi}{4}$.\n",
    "\n",
    "Para la aproximación de Butterworth, los polinomios de orden 2 tienen la forma:\n",
    "\n",
    "$T(s) = \\frac{1}{s^2 + s . \\frac{1}{Q} + 1}$\n",
    "\n",
    "Donde:\n",
    "\n",
    "$\\frac{1}{Q} = 2 . cos(\\psi)$\n",
    "\n",
    "El primer par de polos tendrá una apertura angular de $\\pm\\frac{\\pi}{8}$ y el segundo de $\\pm\\frac{3}{8}.\\pi$ por lo cual podemos expresar la transferencia como:\n",
    "\n",
    "$T(s')=\\frac{1}{s'^2 + s' . 2 . cos(\\frac{\\pi}{8}) + 1} . \\frac{1}{s'^2 + s' . 2 . cos(\\frac{3}{8}) + 1}$\n",
    "\n",
    "Llamamos $s'$ a la variable compleja correspondiente al pasa-bajos y $s$ a la variable compleja correspondiente al pasa-altos"
   ]
  },
  {
   "cell_type": "code",
   "execution_count": 7,
   "id": "7df81653-55eb-46c2-aecf-d1c009c4c27b",
   "metadata": {
    "tags": []
   },
   "outputs": [
    {
     "name": "stdout",
     "output_type": "stream",
     "text": [
      "a: 1.8477590650225735\n",
      "b: 0.7653668647301797\n"
     ]
    }
   ],
   "source": [
    "pi = np.pi\n",
    "a = 2 * np.cos(pi/8)\n",
    "b = 2 * np.cos(3*pi/8)\n",
    "\n",
    "print(f'a: {a}')\n",
    "print(f'b: {b}')"
   ]
  },
  {
   "cell_type": "markdown",
   "id": "c37c705b-9cca-4553-91f3-eea7c7555725",
   "metadata": {},
   "source": [
    "Expresamos la transferencia del pasa-bajos prototipo como:\n",
    "\n",
    "$T(s')=\\frac{1}{s'^2 + s' . 1,8477 + 1} . \\frac{1}{s'^2 + s' . 0,7653 + 1}$\n",
    "\n",
    "Aplicamos la transformación para pasar del pasa-bajos prototipo al pasa-altos.\n",
    "\n",
    "$s' = \\frac{1}{s}$\n",
    "\n",
    "$T(s)=\\frac{1}{(\\frac{1}{s})^2 + \\frac{1}{s} . 1,8477 + 1} . \\frac{1}{(\\frac{1}{s})^2 + \\frac{1}{s} . 0,7653 + 1}$\n",
    "\n",
    "$T(s)=\\frac{s^2}{s^2 + s . 1,8477 + 1} . \\frac{s^2}{s^2 + s . 0,7653 + 1}$\n",
    "\n",
    "Importante: El pasa-altos de esta última expresión no es el objetivo, ya que sigue normalizado para Butterworth. Esta expresión de pasa-altos corresponde a una $\\alpha_{Máx}$ de $3dB$ y no de $1dB$ como se nos pide. El verdadero pasa-altos que queremos lo obtenemos al final cuando desnormalizamos los componentes."
   ]
  },
  {
   "cell_type": "markdown",
   "id": "ee4ca8e1-8df2-473f-b13a-3b11cae8d703",
   "metadata": {
    "tags": []
   },
   "source": [
    "Planteamos un circuito pasivo de orden 2 con una red RLC en la que tomamos la tensión en la salida del inductor.\n",
    "\n",
    "![circuito_rlc](./img/circuito_rlc.JPG)\n",
    "\n",
    "Su transferencia se expresa como:\n",
    "\n",
    "$T(s) = \\frac{s^2}{s^2 + s . \\frac{R}{L} + \\frac{1}{L.C}}$\n",
    "\n",
    "Donde:\n",
    "\n",
    "$\\omega_0^2 = \\frac{1}{L.C}$\n",
    "\n",
    "$\\frac{\\omega_0}{Q} = \\frac{R}{L}$\n",
    "\n",
    "De estas 2 expresiones podemos despejar que:\n",
    "\n",
    "$Q = \\sqrt{\\frac{L}{C}} . \\frac{1}{R}$\n",
    "\n",
    "Fijamos los valores $L = 1$ y $C = 1$\n",
    "\n",
    "En la práctica, conviene fijar los valores de C ya que es más fácil ajustar en la resistencia que en el capacitor.\n",
    "\n",
    "Con $L = 1$ y $C = 1$ entonces:\n",
    "\n",
    "$Q = \\frac{1}{R}$\n",
    "\n",
    "$R = \\frac{1}{Q}$\n",
    "\n",
    "Para la primera etapa $R_1 = 1,8477$ y para la segunda $R_2 = 0,7653$\n",
    "\n",
    "El circuito normalizado nos queda (hacemos uso de buffers para interconectar ambas etapas de filtrado):\n",
    "\n",
    "![circuito_normalizado](./img/circuito_normalizado.JPG)\n",
    "\n",
    "Al desnormalizar en frecuencia y en impedancia:\n",
    "\n",
    "$R_1' = R_1 . \\Omega_Z$\n",
    "\n",
    "$R_2' = R_2 . \\Omega_Z$\n",
    "\n",
    "$C' = \\frac{C}{\\Omega_\\omega . \\Omega_Z}$\n",
    "\n",
    "$L' = \\frac{L . \\Omega_Z}{\\Omega_\\omega}$"
   ]
  },
  {
   "cell_type": "code",
   "execution_count": 10,
   "id": "955d763b-b2ca-42db-be2a-cc3328260c91",
   "metadata": {
    "tags": []
   },
   "outputs": [
    {
     "name": "stdout",
     "output_type": "stream",
     "text": [
      "R1=1847.6999999999998\n",
      "R2=765.3\n",
      "C=5.384002499547252e-08\n",
      "L=0.05384002499547252\n"
     ]
    }
   ],
   "source": [
    "fp = 3500\n",
    "Wz = 1000\n",
    "Ww = 2*pi*fp*(e**(1/4))\n",
    "\n",
    "R1_n = 1.8477\n",
    "R2_n = 0.7653\n",
    "C_n = 1\n",
    "L_n = 1\n",
    "\n",
    "R1 = R1_n * Wz\n",
    "R2 = R2_n * Wz\n",
    "C = C_n/(Ww*Wz)\n",
    "L = (L_n*Wz)/Ww\n",
    "\n",
    "print(f'R1={R1}')\n",
    "print(f'R2={R2}')\n",
    "print(f'C={C}')\n",
    "print(f'L={L}')"
   ]
  },
  {
   "cell_type": "markdown",
   "id": "64b76872-9555-4865-9291-2eaf937255ee",
   "metadata": {},
   "source": [
    "$R_1' = 1847,7\\Omega$\n",
    "\n",
    "$R_2' = 765,3\\Omega$\n",
    "\n",
    "$C' = 53,84nF$\n",
    "\n",
    "$L' = 53,84mHy$\n",
    "\n",
    "El circuito desnormalizado queda de la siguiente forma:\n",
    "\n",
    "![circuito_desnormalizado](img/circuito_desnormalizado.JPG)\n",
    "\n",
    "Al simularlo se puede observar el siguiente gráfico:\n",
    "\n",
    "![simulacion_desnormalizada](img/simulacion_desnormalizado.JPG)"
   ]
  },
  {
   "cell_type": "markdown",
   "id": "9f98ae73-3d71-41a9-b727-756dc844313c",
   "metadata": {
    "tags": []
   },
   "source": [
    "### Circuito desnormalizado activado\n",
    "\n",
    "Ahora podemos proceder a realizar la \"activacion\" de los inductores mediante el uso de otros dispositivos:\n",
    "\n",
    "![Circuito_desnormalizado_activado](img/circuito_desnormalizado_activado.JPG)\n",
    "\n",
    "![Simulacion_desnormalizado_activado](img/simulacion_desnormalizado_activado.JPG)"
   ]
  },
  {
   "cell_type": "markdown",
   "id": "d198250b-1023-464e-8237-c2d457a36a82",
   "metadata": {},
   "source": [
    "## Conclusiones\n",
    "\n",
    "Como se puede observar, en este caso, si bien nos habian solicitado en la consigna, diseñar un filtro por plantilla del tipo pasa-altos, facilmente se puede realizar la conversion a pasa-bajos, y trabajar de la misma forma. Una vez obtenida la transferencia, solamente hay que realizar la conversion de pasa-bajo hacia pasa-alto aplicando una sustitucion de la variable compleja $s$.\n",
    "\n",
    "En este caso, en el item final, para activar los inductores, se utilizaron las redes de opamps, conocidas como GIC (General Impedance Converter)."
   ]
  }
 ],
 "metadata": {
  "kernelspec": {
   "display_name": "Python 3 (ipykernel)",
   "language": "python",
   "name": "python3"
  },
  "language_info": {
   "codemirror_mode": {
    "name": "ipython",
    "version": 3
   },
   "file_extension": ".py",
   "mimetype": "text/x-python",
   "name": "python",
   "nbconvert_exporter": "python",
   "pygments_lexer": "ipython3",
   "version": "3.11.2"
  }
 },
 "nbformat": 4,
 "nbformat_minor": 5
}
