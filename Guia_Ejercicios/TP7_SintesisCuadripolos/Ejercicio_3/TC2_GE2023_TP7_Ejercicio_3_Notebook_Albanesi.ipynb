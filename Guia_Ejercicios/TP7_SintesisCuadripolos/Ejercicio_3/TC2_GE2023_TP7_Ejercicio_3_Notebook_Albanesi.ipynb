{
 "cells": [
  {
   "cell_type": "markdown",
   "id": "0525f39e",
   "metadata": {},
   "source": [
    "<div align=\"left\" display=\"flex\" justify-content=\"center\" align-items=\"center\">\n",
    "    <img src=\"./img/logo_UTN.svg\" align=\"right\" width=\"200\" />\n",
    "    <h2>Teoría de los Circuitos II</h2>\n",
    "    <h2>Guia de Ejercicios - 2023</h2>\n",
    "    <h1><b>TP Nro. 7 - Sintesis de cuadripolos - Ejercicio N°3</b></h1>\n",
    "    <h3>Albanesi, Tomas Agustin</h3>\n",
    "</div>"
   ]
  },
  {
   "cell_type": "markdown",
   "id": "bb9d9f4c",
   "metadata": {},
   "source": [
    "## Indice de contenidos:\n",
    "* [1. Consignas](#1)\n",
    "* [2. Inicializaciones de código](#2)\n",
    "* [3. Resolución Punto 1)](#3)\n",
    "    * [3.1. Resolución analitica](#3.1)\n",
    "    * [3.2. Resolución simbolica](#3.2)\n",
    "* [4. Resolución Punto 2)](#4)\n",
    "    * [4.1. Resolución analitica](#4.1)\n",
    "    * [4.2. Resolución simbolica](#4.2)\n",
    "* [5. Conclusiones generales](#5)"
   ]
  },
  {
   "cell_type": "markdown",
   "id": "0b592f7a",
   "metadata": {},
   "source": [
    "## 1. Consigna <a class=\"anchor\" id=\"1\"></a>\n",
    "\n",
    "<img src=\"./img/Consigna.png\" width=\"700\" />"
   ]
  },
  {
   "cell_type": "markdown",
   "id": "5348e969",
   "metadata": {},
   "source": [
    "## 2. Resolución item a) <a class=\"anchor\" id=\"2\"></a>"
   ]
  },
  {
   "cell_type": "markdown",
   "id": "1d52b36d",
   "metadata": {},
   "source": [
    "### 2.1. Resolución analitica <a class=\"anchor\" id=\"2.1\"></a>"
   ]
  },
  {
   "cell_type": "markdown",
   "id": "7b24363f",
   "metadata": {},
   "source": [
    "En primer lugar, como nos dan la transferencia, podemos expresarlo y compararlo con su expresion en terminos de los parametros $Y$ de los cuadripolos:\n",
    "\n",
    "\\begin{equation}\n",
    "\\frac{V_2}{V_1} = \\frac{s^2+1}{2s^2+1} = \\frac{-Y_{21}}{Y_{11}} = \\frac{1}{2} \\cdot \\frac{\\frac{s^2+1}{D}}{\\frac{s^2+\\frac{1}{2}}{D}}\n",
    "\\end{equation}\n",
    "\n",
    "Por lo tanto, ahora debo proponer un valor para el denominador $D$.\n",
    "Recordemos que como nos piden sintetizarlos con 3 inductores y 1 capacitor, debemos proponer un denominador de forma tal que cumplamos con las siguientes condiciones:\n",
    "\n",
    "* Alternancia de singularidades\n",
    "* No disipacion de energia (PAR/IMPAR o IMPAR/PAR)\n",
    "\n",
    "Por lo tanto, elegimos el siguiente denominador para sintetizar $Y_{11}$:\n",
    "\n",
    "\\begin{equation}\n",
    "D = \\frac{s^2 + \\frac{1}{4}}{s}\n",
    "\\end{equation}\n",
    "\n",
    "De esta forma, el parametro $Y_{11}$ a sintetizar quedara de la siguiente forma:\n",
    "\n",
    "\\begin{equation}\n",
    "Y_{11} = 2 \\cdot \\frac{(s^2+\\frac{1}{2}) \\cdot s}{(s^2 + \\frac{1}{4})} \n",
    "\\end{equation}\n",
    "\n",
    "y el otro parametro, del cual debo respetar los ceros $-Y_{21}$ de la siguiente forma:\n",
    "\n",
    "\\begin{equation}\n",
    "-Y_{21} = \\frac{(s^2+1) \\cdot s}{(s^2 + \\frac{1}{4})}\n",
    "\\end{equation}\n",
    "\n",
    "Como podemos observar, para sintetizar debemos acordarnos de respectar el cero en $j\\omega = 1$.\n",
    "\n",
    "A continuacion veremos como quedan ambos diagramas de polos y ceros:\n",
    "\n"
   ]
  },
  {
   "cell_type": "code",
   "execution_count": null,
   "id": "4069b935",
   "metadata": {},
   "outputs": [],
   "source": []
  }
 ],
 "metadata": {
  "kernelspec": {
   "display_name": "Python 3 (ipykernel)",
   "language": "python",
   "name": "python3"
  },
  "language_info": {
   "codemirror_mode": {
    "name": "ipython",
    "version": 3
   },
   "file_extension": ".py",
   "mimetype": "text/x-python",
   "name": "python",
   "nbconvert_exporter": "python",
   "pygments_lexer": "ipython3",
   "version": "3.11.5"
  }
 },
 "nbformat": 4,
 "nbformat_minor": 5
}
