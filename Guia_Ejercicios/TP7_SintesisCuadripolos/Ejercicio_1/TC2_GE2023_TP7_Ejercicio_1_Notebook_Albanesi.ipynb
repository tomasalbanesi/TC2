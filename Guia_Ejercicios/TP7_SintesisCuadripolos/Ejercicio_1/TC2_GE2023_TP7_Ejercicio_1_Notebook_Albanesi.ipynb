{
 "cells": [
  {
   "cell_type": "markdown",
   "id": "0525f39e",
   "metadata": {},
   "source": [
    "<div align=\"left\" display=\"flex\" justify-content=\"center\" align-items=\"center\">\n",
    "    <img src=\"./img/logo_UTN.svg\" align=\"right\" width=\"200\" />\n",
    "    <h2>Teoría de los Circuitos II</h2>\n",
    "    <h2>Guia de Ejercicios - 2023</h2>\n",
    "    <h1><b>TP Nro. 7 - Sintesis de cuadripolos - Ejercicio N°1</b></h1>\n",
    "    <h3>Albanesi, Tomas Agustin</h3>\n",
    "</div>"
   ]
  },
  {
   "cell_type": "markdown",
   "id": "0b592f7a",
   "metadata": {},
   "source": [
    "## Consigna"
   ]
  },
  {
   "cell_type": "code",
   "execution_count": null,
   "id": "3bf9f5f3",
   "metadata": {},
   "outputs": [],
   "source": []
  },
  {
   "cell_type": "markdown",
   "id": "5348e969",
   "metadata": {},
   "source": [
    "## Resolución"
   ]
  },
  {
   "cell_type": "markdown",
   "id": "9954818f",
   "metadata": {},
   "source": [
    "### Item b)"
   ]
  },
  {
   "cell_type": "markdown",
   "id": "54b1a64e",
   "metadata": {},
   "source": [
    "En primer lugar, nos dan los siguientes parametros impedancia $Z$:\n",
    "\n",
    "$$ Z_{21} = \\frac{s}{s^2 + 2} $$\n",
    "\n",
    "$$ Z_{22} = \\frac{s}{s^2 + 2}$$"
   ]
  },
  {
   "cell_type": "markdown",
   "id": "fab9d635",
   "metadata": {},
   "source": []
  }
 ],
 "metadata": {
  "kernelspec": {
   "display_name": "Python 3 (ipykernel)",
   "language": "python",
   "name": "python3"
  },
  "language_info": {
   "codemirror_mode": {
    "name": "ipython",
    "version": 3
   },
   "file_extension": ".py",
   "mimetype": "text/x-python",
   "name": "python",
   "nbconvert_exporter": "python",
   "pygments_lexer": "ipython3",
   "version": "3.11.5"
  }
 },
 "nbformat": 4,
 "nbformat_minor": 5
}
