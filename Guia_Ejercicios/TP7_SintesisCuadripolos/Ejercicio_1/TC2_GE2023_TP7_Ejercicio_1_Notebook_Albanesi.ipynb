{
 "cells": [
  {
   "cell_type": "markdown",
   "id": "0525f39e",
   "metadata": {},
   "source": [
    "<div align=\"left\" display=\"flex\" justify-content=\"center\" align-items=\"center\">\n",
    "    <img src=\"./img/logo_UTN.svg\" align=\"right\" width=\"200\" />\n",
    "    <h2>Teoría de los Circuitos II</h2>\n",
    "    <h2>Guia de Ejercicios - 2023</h2>\n",
    "    <h1><b>TP Nro. 7 - Sintesis de cuadripolos - Ejercicio N°1</b></h1>\n",
    "    <h3>Albanesi, Tomas Agustin</h3>\n",
    "</div>"
   ]
  },
  {
   "cell_type": "markdown",
   "id": "bb9d9f4c",
   "metadata": {},
   "source": [
    "## Indice de contenidos:\n",
    "* [1. Consignas](#1)\n",
    "* [2. Resolución Item a)](#2)\n",
    "    * [2.1. Resolución analitica](#2.1)\n",
    "    * [2.2. Resolución simbolica](#2.2)\n",
    "* [3. Resolución Item b)](#3)\n",
    "    * [3.1. Resolución analitica](#3.1)\n",
    "    * [3.2. Resolución simbolica](#3.2)\n",
    "* [4. Resolución Item c)](#4)\n",
    "    * [4.1. Resolución analitica](#4.1)\n",
    "    * [4.2. Resolución simbolica](#4.2)\n",
    "* [5. Resolución Item d)](#5)\n",
    "    * [5.1. Resolución analitica](#5.1)\n",
    "    * [5.2. Resolución simbolica](#5.2)"
   ]
  },
  {
   "cell_type": "markdown",
   "id": "0b592f7a",
   "metadata": {},
   "source": [
    "## 1. Consigna <a class=\"anchor\" id=\"1\"></a>\n",
    "\n",
    "<img src=\"./img/Consigna.png\" width=\"500\" />"
   ]
  },
  {
   "cell_type": "markdown",
   "id": "5348e969",
   "metadata": {},
   "source": [
    "## 2. Resolución item a) <a class=\"anchor\" id=\"2\"></a>"
   ]
  },
  {
   "cell_type": "markdown",
   "id": "1d52b36d",
   "metadata": {},
   "source": [
    "### 2.1. Resolución analitica <a class=\"anchor\" id=\"2.1\"></a>"
   ]
  },
  {
   "cell_type": "markdown",
   "id": "7b24363f",
   "metadata": {},
   "source": [
    "Como nos dan los siguiente parametros del cuadripolo:\n",
    "\n",
    "\\begin{equation}\n",
    "-Y_{21}\n",
    "\\end{equation}\n",
    "\n"
   ]
  },
  {
   "cell_type": "markdown",
   "id": "c2c9cfe0-0bfc-45e8-91af-144dca4722ea",
   "metadata": {},
   "source": [
    "### 2.2. Resolución simbólica <a class=\"anchor\" id=\"2.2\"></a>"
   ]
  },
  {
   "cell_type": "code",
   "execution_count": null,
   "id": "fb850a9c-7c2d-46d9-ae4d-7fb9ac0c8d43",
   "metadata": {},
   "outputs": [],
   "source": []
  },
  {
   "cell_type": "markdown",
   "id": "d37ffe6e-c30a-4cc1-b10e-ccd5af41e77f",
   "metadata": {},
   "source": [
    "## 3. Resolución item b) <a class=\"anchor\" id=\"3\"></a>"
   ]
  },
  {
   "cell_type": "markdown",
   "id": "b398cce7-3360-4a05-ac04-7a293238a5f5",
   "metadata": {},
   "source": [
    "### 3.1. Resolución analitica <a class=\"anchor\" id=\"3.1\"></a>"
   ]
  },
  {
   "cell_type": "markdown",
   "id": "114da2e5-d954-4eb5-9cbd-be325c7f22e9",
   "metadata": {},
   "source": []
  },
  {
   "cell_type": "markdown",
   "id": "116b33e5-f4d6-4214-8f4b-06085e4d9fa5",
   "metadata": {},
   "source": [
    "### 3.2. Resolución simbólica <a class=\"anchor\" id=\"3.2\"></a>"
   ]
  },
  {
   "cell_type": "code",
   "execution_count": null,
   "id": "8163bd50-78e3-43cc-9459-e269e516239e",
   "metadata": {},
   "outputs": [],
   "source": []
  },
  {
   "cell_type": "markdown",
   "id": "9ff2c5e3-0e22-4ee8-abb0-deca039ea360",
   "metadata": {},
   "source": [
    "## 4. Resolución item c) <a class=\"anchor\" id=\"4\"></a>"
   ]
  },
  {
   "cell_type": "markdown",
   "id": "0de0f453-291a-47d4-990f-c82b45647e5e",
   "metadata": {},
   "source": [
    "### 4.1. Resolución analitica <a class=\"anchor\" id=\"4.1\"></a>"
   ]
  },
  {
   "cell_type": "markdown",
   "id": "218cb804-d0fc-431a-b3ee-dc3534b16221",
   "metadata": {},
   "source": []
  },
  {
   "cell_type": "markdown",
   "id": "0f8b0869-4287-4516-bcaf-d51e97a3128a",
   "metadata": {},
   "source": [
    "### 4.2. Resolución simbólica <a class=\"anchor\" id=\"4.2\"></a>"
   ]
  },
  {
   "cell_type": "code",
   "execution_count": null,
   "id": "cef05800-1640-4949-98b9-a42bf6a56509",
   "metadata": {},
   "outputs": [],
   "source": []
  },
  {
   "cell_type": "markdown",
   "id": "eaac177f-c4d1-4370-b3a0-54a9b6783acc",
   "metadata": {},
   "source": [
    "## 5. Resolución item d) <a class=\"anchor\" id=\"5\"></a>"
   ]
  },
  {
   "cell_type": "markdown",
   "id": "9ef9188f-1808-44a1-93c8-66e66f88c281",
   "metadata": {},
   "source": [
    "### 5.1. Resolución analitica <a class=\"anchor\" id=\"5.1\"></a>"
   ]
  },
  {
   "attachments": {},
   "cell_type": "markdown",
   "id": "8d44abdd-304b-49d3-a9ce-a60554b61bed",
   "metadata": {},
   "source": [
    "Nos proponen los siguiente parametros admitancia:\n",
    "\n",
    "\\begin{equation}\n",
    "-Y_{21} = \\frac{s \\cdot (s^2+1)}{(s^2+2)\\cdot(s^2+5)}\n",
    "\\end{equation}\n",
    "\n",
    "\\begin{equation}\n",
    "Y_{11} = \\frac{3 \\cdot s \\cdot (s^2+\\frac{7}{3})}{(s^2+2)\\cdot(s^2+5)}\n",
    "\\end{equation}\n",
    "\n",
    "Por lo tanto, debemos sintetizar $Y_{11}$, respetando los ceros de $-Y_{21}$ para cumplir con los ceros de transmision de la funcion transferencia.\n",
    "\n",
    "Diagrama de polos y ceros de $Y_{11}$:"
   ]
  },
  {
   "cell_type": "markdown",
   "id": "80ecbc61-e61a-4ddf-95cb-25b35f4aaf9b",
   "metadata": {},
   "source": [
    "### 5.2. Resolución simbólica <a class=\"anchor\" id=\"5.2\"></a>"
   ]
  },
  {
   "cell_type": "code",
   "execution_count": null,
   "id": "90ab842b-68a8-4a82-b79c-e89624bb88c7",
   "metadata": {},
   "outputs": [],
   "source": []
  }
 ],
 "metadata": {
  "kernelspec": {
   "display_name": "Python 3 (ipykernel)",
   "language": "python",
   "name": "python3"
  },
  "language_info": {
   "codemirror_mode": {
    "name": "ipython",
    "version": 3
   },
   "file_extension": ".py",
   "mimetype": "text/x-python",
   "name": "python",
   "nbconvert_exporter": "python",
   "pygments_lexer": "ipython3",
   "version": "3.11.5"
  }
 },
 "nbformat": 4,
 "nbformat_minor": 5
}
