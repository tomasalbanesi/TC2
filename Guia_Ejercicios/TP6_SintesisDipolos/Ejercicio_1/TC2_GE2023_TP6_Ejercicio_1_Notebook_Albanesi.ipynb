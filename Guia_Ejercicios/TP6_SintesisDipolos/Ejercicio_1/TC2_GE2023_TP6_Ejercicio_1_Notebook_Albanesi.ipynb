{
 "cells": [
  {
   "cell_type": "markdown",
   "id": "7c8aa423-8416-47d2-8e09-f698dcbbaf37",
   "metadata": {},
   "source": [
    "<div align=\"left\" display=\"flex\" justify-content=\"center\" align-items=\"center\">\n",
    "    <img src=\"./img/logo_UTN.svg\" align=\"right\" width=\"200\" />\n",
    "    <h2>Teoría de los Circuitos II</h2>\n",
    "    <h2>Guia de Ejercicios - 2023</h2>\n",
    "    <h1><b>TP Nro. 6 - Sintesis de dipolos - Ejercicio N°1</b></h1>\n",
    "    <h3>Albanesi, Tomas Agustin</h3>\n",
    "</div>"
   ]
  },
  {
   "cell_type": "markdown",
   "id": "b2437f67-d3bf-4914-bd84-9c37b4a0f243",
   "metadata": {},
   "source": [
    "## Consigna\n",
    "\n",
    "<img src=\"./img/Consigna.png\" width=\"700\" /> "
   ]
  },
  {
   "cell_type": "markdown",
   "id": "3b93bb81-d0d7-4050-b8f6-651344881d96",
   "metadata": {},
   "source": [
    "## Resolucion analitica"
   ]
  },
  {
   "cell_type": "code",
   "execution_count": null,
   "id": "db8fa60c",
   "metadata": {},
   "outputs": [],
   "source": []
  },
  {
   "cell_type": "markdown",
   "id": "ab8b1cdf",
   "metadata": {},
   "source": [
    "## Simulacion numerica"
   ]
  },
  {
   "cell_type": "code",
   "execution_count": null,
   "id": "3c3410a9",
   "metadata": {},
   "outputs": [],
   "source": []
  }
 ],
 "metadata": {
  "kernelspec": {
   "display_name": "Python 3 (ipykernel)",
   "language": "python",
   "name": "python3"
  },
  "language_info": {
   "codemirror_mode": {
    "name": "ipython",
    "version": 3
   },
   "file_extension": ".py",
   "mimetype": "text/x-python",
   "name": "python",
   "nbconvert_exporter": "python",
   "pygments_lexer": "ipython3",
   "version": "3.11.5"
  }
 },
 "nbformat": 4,
 "nbformat_minor": 5
}
