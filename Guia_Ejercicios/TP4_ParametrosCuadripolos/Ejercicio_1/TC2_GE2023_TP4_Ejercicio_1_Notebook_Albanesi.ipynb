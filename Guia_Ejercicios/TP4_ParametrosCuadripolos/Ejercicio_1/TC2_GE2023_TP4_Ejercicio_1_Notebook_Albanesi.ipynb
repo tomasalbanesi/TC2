{
 "cells": [
  {
   "cell_type": "markdown",
   "id": "7c8aa423-8416-47d2-8e09-f698dcbbaf37",
   "metadata": {},
   "source": [
    "<img src=\"./img/logo_UTN.svg\" align=\"right\" width=\"150\" /> \n",
    "\n",
    "#### Teoría de los Circuitos 2\n",
    "\n",
    "# Guia de Ejercicios - 2023\n",
    "## Parametros de cuadripolos - Ejercicio N°1\n",
    "#### Tomas A. Albanesi"
   ]
  },
  {
   "cell_type": "markdown",
   "id": "b2437f67-d3bf-4914-bd84-9c37b4a0f243",
   "metadata": {},
   "source": [
    "## Consigna\n",
    "\n",
    "Obtenga un solo juego de parámetros de cuadripolo: Z, Y ó ABCD de las siguientes redes:\n",
    "\n",
    "a)\n",
    "<img src=\"./img/Ejercicio1_RedA.png\" width=\"500\" /> \n",
    "\n",
    "b)\n",
    "<img src=\"./img/Ejercicio1_RedB.png\" width=\"500\" /> \n",
    "\n",
    "c)\n",
    "<img src=\"./img/Ejercicio1_RedC.png\" width=\"500\" /> "
   ]
  },
  {
   "cell_type": "markdown",
   "id": "3b93bb81-d0d7-4050-b8f6-651344881d96",
   "metadata": {},
   "source": [
    "## Red A"
   ]
  },
  {
   "cell_type": "markdown",
   "id": "fe6f0b80",
   "metadata": {},
   "source": [
    "### Desarrollo analitico"
   ]
  },
  {
   "cell_type": "markdown",
   "id": "3779c374-7c69-41fa-a0d8-4980f84672b4",
   "metadata": {
    "tags": []
   },
   "source": [
    "Para esta red en particular vamos a buscar los parametros T.\n",
    "\n",
    "Si se observa el circuito, podemos realizar las siguientes asociaciones:\n",
    "\n",
    "* $C_1$ y $L_1$ en paralelo, lo que nos da una admitancia a la cual llamaremos $Y$\n",
    "* $C_3$ y $L_2$ en paralelo, y luego en serie con $C_2$, lo que nos da una impedancia a la cual llamaremos $Z$\n",
    "\n",
    "Realizando las asociaciones mencionadas, se obtiene una red \"L invertida\":\n",
    "\n",
    "<img src=\"./img/RedLInvertida.png\" width=\"500\" /> \n",
    "\n",
    "Calculo de admitancia:\n",
    "\n",
    "$Y = s \\cdot C_1 + \\frac{1}{s \\cdot L_1}$\n",
    "\n",
    "$Y = \\frac{s^2 . L_1 . C_1 + 1}{s . L_1}$\n",
    "\n",
    "$Y = \\frac{s^2 . 0,5 + 1}{s . 0,5}$\n",
    "\n",
    "Calculo de impedancia:\n",
    "\n",
    "$Z = \\frac{1}{s . C_2} + \\frac{1}{\\frac{1}{s . L_2} + s . C_3}$\n",
    "\n",
    "$Z = \\frac{1}{s . C_2} + \\frac{s . L_2}{s^2 . L_2 . C_3 + 1}$\n",
    "\n",
    "$ Z = \\frac{s^2 . L_2 . C_3 + 1 + s^2 . L_2 . C_2}{s^3 . L_2 . C_2 . C_3 + s . C_2} $\n",
    "\n",
    "$ Z = \\frac{s^2 . L_2 . (C_2 + C_3) + 1}{s^3 . L_2 . C_2 . C_3 + s . C_2} $\n",
    "\n",
    "$ Z = \\frac{s^2 . 0,25 . (2 + 2) + 1}{s^3 . 0,25 . 2 . 2 + s . 2} $\n",
    "\n",
    "$ Z = \\frac{s^2 + 1}{s^3 + s . 2} $\n"
   ]
  },
  {
   "cell_type": "markdown",
   "id": "efccfed8",
   "metadata": {},
   "source": [
    "Las ecuaciones para hallar los parámetros $T$ son:\n",
    "\n",
    "* $ V_1 = A . V_2 + B . (-I_2)$\n",
    "* $ I_1 = C . V_2 + D . (-I_2)$\n",
    "\n",
    "De las cuales podemos expresar que:\n",
    "\n",
    "* $\\large A = \\frac{V_1}{V_2}|_{(-I_2) = 0}$\n",
    "    <br><br>\n",
    "* $\\large B = \\frac{V_1}{(-I_2)}|_{V_2 = 0}$\n",
    "    <br><br>\n",
    "* $\\large C = \\frac{I_1}{V_2}|_{(-I_2) = 0}$\n",
    "    <br><br>\n",
    "* $\\large D = \\frac{I_1}{(-I_2)}|_{V_2 = 0}$\n",
    "    <br><br>"
   ]
  },
  {
   "cell_type": "markdown",
   "id": "29db69d4",
   "metadata": {},
   "source": [
    "Cuando $(-I_2) = 0$ no circula corriente por $Z$, por lo tanto:\n",
    "\n",
    "$V_1 = V_2$.\n",
    "\n",
    "Entonces:\n",
    "\n",
    "$A = 1$.\n",
    "\n",
    "Cuando $V_2 = 0$ la corriente que circula por $Z$ se expresa como:\n",
    "\n",
    "$(-I_2) = \\frac{V_1}{Z}$\n",
    "\n",
    "Entonces:\n",
    "\n",
    "$B = \\frac{V_1}{(-I_2)} = \\frac{V_1}{\\frac{V_1}{Z}}$\n",
    "\n",
    "$B = Z$\n",
    "\n",
    "Cuando $(-I_2) = 0$ y $V_1 = V_2$:\n",
    "\n",
    "$C = \\frac{I_1}{V_2} = \\frac{I_1}{V_1}$\n",
    "\n",
    "$C = Y$\n",
    "\n",
    "Cuando $V_2 = 0$ podemos plantear un divisor de corrientes, tal que:\n",
    "\n",
    "$(-I_2) = I_1 . \\frac{\\frac{1}{Y}}{Z+\\frac{1}{Y}}$\n",
    "\n",
    "$D = \\frac{I_1}{(-I_2)}$\n",
    "\n",
    "$D = 1 + Z . Y$"
   ]
  },
  {
   "cell_type": "markdown",
   "id": "ff712773",
   "metadata": {},
   "source": [
    "Armando la matriz T:\n",
    "\n",
    "$T = \\begin{bmatrix} A & B \\\\ C & D \\end{bmatrix} $\n",
    "\n",
    "$T = \\begin{bmatrix} 1 & Z \\\\ Y & (1+Z.Y) \\end{bmatrix} $\n",
    "\n",
    "$T = \\begin{bmatrix} 1 & \\frac{s^2 + 1}{s^3 + s . 2} \\\\ \\frac{s^2 . 0,5 + 1}{s . 0,5} & (1+\\frac{s^2 + 1}{s^3 + s . 2} \\cdot \\frac{s^2 . 0,5 + 1}{s . 0,5}) \\end{bmatrix} $"
   ]
  },
  {
   "cell_type": "markdown",
   "id": "c573714e-1666-4bc5-a01b-e01839df1b17",
   "metadata": {},
   "source": [
    "## Red B"
   ]
  },
  {
   "cell_type": "markdown",
   "id": "f6b6e674",
   "metadata": {},
   "source": [
    "### Desarollo analitico"
   ]
  },
  {
   "cell_type": "markdown",
   "id": "e7f72622",
   "metadata": {},
   "source": []
  },
  {
   "cell_type": "markdown",
   "id": "fc2bdedd",
   "metadata": {},
   "source": [
    "## Red C"
   ]
  },
  {
   "cell_type": "markdown",
   "id": "ee49a3ce",
   "metadata": {},
   "source": [
    "### Desarollo analitico"
   ]
  },
  {
   "cell_type": "code",
   "execution_count": null,
   "id": "5d6b4414",
   "metadata": {},
   "outputs": [],
   "source": []
  }
 ],
 "metadata": {
  "kernelspec": {
   "display_name": "Python 3 (ipykernel)",
   "language": "python",
   "name": "python3"
  },
  "language_info": {
   "codemirror_mode": {
    "name": "ipython",
    "version": 3
   },
   "file_extension": ".py",
   "mimetype": "text/x-python",
   "name": "python",
   "nbconvert_exporter": "python",
   "pygments_lexer": "ipython3",
   "version": "3.11.2"
  }
 },
 "nbformat": 4,
 "nbformat_minor": 5
}
