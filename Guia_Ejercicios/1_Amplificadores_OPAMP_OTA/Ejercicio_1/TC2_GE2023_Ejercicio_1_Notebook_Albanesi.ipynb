{
 "cells": [
  {
   "cell_type": "markdown",
   "id": "7c8aa423-8416-47d2-8e09-f698dcbbaf37",
   "metadata": {},
   "source": [
    "<img src=\"./img/logo_UTN.svg\" align=\"right\" width=\"150\" /> \n",
    "\n",
    "#### Teoría de los Circuitos 2\n",
    "\n",
    "# Guia de Ejercicios - 2023\n",
    "## Amplificadores OPAMP y OTA - Ejercicio N°1\n",
    "#### Tomas A. Albanesi"
   ]
  },
  {
   "cell_type": "markdown",
   "id": "b2437f67-d3bf-4914-bd84-9c37b4a0f243",
   "metadata": {},
   "source": [
    "## Consigna\n",
    "\n",
    "<img src=\"./img/Ejercicio1_Consigna.png\" width=\"700\" /> "
   ]
  },
  {
   "cell_type": "markdown",
   "id": "3b93bb81-d0d7-4050-b8f6-651344881d96",
   "metadata": {},
   "source": [
    "## Circuito 1"
   ]
  },
  {
   "cell_type": "markdown",
   "id": "3779c374-7c69-41fa-a0d8-4980f84672b4",
   "metadata": {
    "tags": []
   },
   "source": [
    "### Desarrollo analitico\n",
    "\n",
    "En el primer caso tenemos una simple configuracion inversora con una resistencia de carga.\n",
    "\n",
    "En primer lugar, como se puede observar, el circuito posee realimentacion negativa, por lo tanto, podremos utilizar el concepto de \"cortocircuito virtual\" y podremos decir que $V^+$ y $V^-$ tienen el mismo potencial con respecto a masa.\n",
    "\n",
    "Es decir, el nodo $V^+$ tiene asociado el potencial de 0V.\n",
    "Por lo tanto, y por estar contemplando un amplificador operacional ideal (impedancia de entrada infinita), podemos plantear que la corriente que circula por $R_1$ a la cual llamaremos $I_{R_1}$ es igual a la corriente que circula por $R_2$ a la cual llamaremos $I_{R_2}$:\n",
    "\n",
    "\\begin{equation}\n",
    "I_{R_1}(s) = I_{R_2}(s)\n",
    "\\end{equation}\n",
    "\n",
    "Reemplazando y aplicando Ley de Ohm:\n",
    "\n",
    "\\begin{equation}\n",
    "\\frac{V_1 - 0}{R_1} = \\frac{0 - V_2}{R_2}\n",
    "\\end{equation}\n",
    "\n",
    "Por lo tanto, podemos despejar la transferencia de tension:\n",
    "\n",
    "\\begin{equation}\n",
    "\\frac{V_2}{V_1} = -\\frac{R_2}{R_1}\n",
    "\\end{equation}\n",
    "\n",
    "Entonces deberemos calcular los valores de $R_1$ y $R_2$ para satisfacer los requisitos solicitados.\n",
    "\n",
    "Empecemos con la impedancia de entrada:\n",
    "\n",
    "\\begin{equation}\n",
    "Z_1 = \\frac{V_1}{I_1}\n",
    "\\end{equation}\n",
    "\n",
    "Se puede observar que la corriente de entrada, circula por $R_1$ y luego se dirige a la masa virtual.\n",
    "Por lo tanto:\n",
    "\n",
    "\\begin{equation}\n",
    "Z_1 = \\frac{V_1}{\\frac{V_1 - 0}{R_1}}\n",
    "\\end{equation}\n",
    "\n",
    "Por lo tanto, la impedancia de entrada es la siguiente:\n",
    "\n",
    "\\begin{equation}\n",
    "Z_1 = R_1\n",
    "\\end{equation}\n",
    "\n",
    "Esto quiere decir:\n",
    "\n",
    "\\begin{equation}\n",
    "R_1 = 47 k\\Omega\n",
    "\\end{equation}\n",
    "\n",
    "Ahora, analizando la ganancia del sistema, nos dicen lo siguiente:\n",
    "\n",
    "\\begin{equation}\n",
    "\\frac{V_2}{V_1} = -70dB\n",
    "\\end{equation}\n",
    "\n"
   ]
  },
  {
   "cell_type": "markdown",
   "id": "c573714e-1666-4bc5-a01b-e01839df1b17",
   "metadata": {},
   "source": [
    "## Circuito 2"
   ]
  },
  {
   "cell_type": "code",
   "execution_count": null,
   "id": "4f1432f0-5387-4d89-88dd-3838c4bd3470",
   "metadata": {},
   "outputs": [],
   "source": []
  }
 ],
 "metadata": {
  "kernelspec": {
   "display_name": "Python 3 (ipykernel)",
   "language": "python",
   "name": "python3"
  },
  "language_info": {
   "codemirror_mode": {
    "name": "ipython",
    "version": 3
   },
   "file_extension": ".py",
   "mimetype": "text/x-python",
   "name": "python",
   "nbconvert_exporter": "python",
   "pygments_lexer": "ipython3",
   "version": "3.11.2"
  }
 },
 "nbformat": 4,
 "nbformat_minor": 5
}
