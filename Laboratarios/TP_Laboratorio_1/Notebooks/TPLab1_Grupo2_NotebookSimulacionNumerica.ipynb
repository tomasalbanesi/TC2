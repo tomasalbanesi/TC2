{
 "cells": [
  {
   "cell_type": "code",
   "execution_count": 1,
   "id": "3fe694d9",
   "metadata": {},
   "outputs": [],
   "source": [
    "# Importacion de librerias a utilizar\n",
    "from pytc2.sistemas_lineales import pzmap, GroupDelay, bodePlot, analyze_sys, pretty_print_lti, tf2sos_analog, pretty_print_SOS\n",
    "from pytc2.general import print_latex, print_subtitle\n",
    "from scipy import signal\n",
    "import numpy as np\n",
    "import matplotlib.pyplot as plt"
   ]
  },
  {
   "cell_type": "code",
   "execution_count": 2,
   "id": "e538ab18",
   "metadata": {},
   "outputs": [],
   "source": [
    "# Esta parte de código la agregamos SOLO en los notebooks para fijar el estilo de los gráficos.\n",
    "#\n",
    "#%%  Inicialización de librerías (esto NO es parte del script demo_seg_orden1.py)\n",
    "# Setup inline graphics: Esto lo hacemos para que el tamaño de la salida, \n",
    "# sea un poco más adecuada al tamaño del jupyter notebook documento\n",
    "\n",
    "# algún bug cuando lo hice:\n",
    "plt.figure(1)\n",
    "plt.close(1)\n",
    "\n",
    "import matplotlib as mpl\n",
    "\n",
    "fig_sz_x = 13\n",
    "fig_sz_y = 7\n",
    "fig_dpi = 80 # dpi\n",
    "fig_font_size = 16\n",
    "\n",
    "mpl.rcParams['figure.figsize'] = (fig_sz_x, fig_sz_y)\n",
    "mpl.rcParams['figure.dpi'] = fig_dpi\n",
    "plt.rcParams.update({'font.size':fig_font_size})\n",
    "\n",
    "#%%  Fin - Inicialización de librerías"
   ]
  },
  {
   "cell_type": "code",
   "execution_count": 7,
   "id": "db293f9d",
   "metadata": {},
   "outputs": [
    {
     "name": "stdout",
     "output_type": "stream",
     "text": [
      "0.5088471399095875\n",
      "3\n"
     ]
    },
    {
     "data": {
      "text/markdown": [
       "#### Transferencia normalizada tipo Butterworth FILTRO PASA ALTOS"
      ],
      "text/plain": [
       "<IPython.core.display.Markdown object>"
      ]
     },
     "metadata": {},
     "output_type": "display_data"
    },
    {
     "ename": "ValueError",
     "evalue": "operands could not be broadcast together with shapes (4,) (3,) ",
     "output_type": "error",
     "traceback": [
      "\u001b[1;31m---------------------------------------------------------------------------\u001b[0m",
      "\u001b[1;31mValueError\u001b[0m                                Traceback (most recent call last)",
      "Cell \u001b[1;32mIn[7], line 17\u001b[0m\n\u001b[0;32m     13\u001b[0m Num, Den \u001b[38;5;241m=\u001b[39m signal\u001b[38;5;241m.\u001b[39mzpk2tf(z, p, k)\n\u001b[0;32m     15\u001b[0m print_subtitle(\u001b[38;5;124m'\u001b[39m\u001b[38;5;124mTransferencia normalizada tipo Butterworth FILTRO PASA ALTOS\u001b[39m\u001b[38;5;124m'\u001b[39m)\n\u001b[1;32m---> 17\u001b[0m hp \u001b[38;5;241m=\u001b[39m \u001b[43mtf2sos_analog\u001b[49m\u001b[43m(\u001b[49m\u001b[43mNum\u001b[49m\u001b[43m,\u001b[49m\u001b[43m \u001b[49m\u001b[43mDen\u001b[49m\u001b[43m)\u001b[49m\n\u001b[0;32m     19\u001b[0m pretty_print_SOS(hp)\n\u001b[0;32m     21\u001b[0m analyze_sys(hp)\n",
      "File \u001b[1;32m~\\AppData\\Roaming\\Python\\Python311\\site-packages\\pytc2\\sistemas_lineales.py:1373\u001b[0m, in \u001b[0;36mtf2sos_analog\u001b[1;34m(num, den, pairing)\u001b[0m\n\u001b[0;32m   1353\u001b[0m \u001b[38;5;250m\u001b[39m\u001b[38;5;124;03m\"\"\"\u001b[39;00m\n\u001b[0;32m   1354\u001b[0m \u001b[38;5;124;03m\u001b[39;00m\n\u001b[0;32m   1355\u001b[0m \u001b[38;5;124;03mParameters\u001b[39;00m\n\u001b[1;32m   (...)\u001b[0m\n\u001b[0;32m   1368\u001b[0m \n\u001b[0;32m   1369\u001b[0m \u001b[38;5;124;03m\"\"\"\u001b[39;00m\n\u001b[0;32m   1371\u001b[0m z, p, k \u001b[38;5;241m=\u001b[39m tf2zpk(num, den)\n\u001b[1;32m-> 1373\u001b[0m sos \u001b[38;5;241m=\u001b[39m \u001b[43mzpk2sos_analog\u001b[49m\u001b[43m(\u001b[49m\u001b[43mz\u001b[49m\u001b[43m,\u001b[49m\u001b[43m \u001b[49m\u001b[43mp\u001b[49m\u001b[43m,\u001b[49m\u001b[43m \u001b[49m\u001b[43mk\u001b[49m\u001b[43m,\u001b[49m\u001b[43m \u001b[49m\u001b[43mpairing\u001b[49m\u001b[43m \u001b[49m\u001b[38;5;241;43m=\u001b[39;49m\u001b[43m \u001b[49m\u001b[43mpairing\u001b[49m\u001b[43m)\u001b[49m\n\u001b[0;32m   1375\u001b[0m \u001b[38;5;28;01mreturn\u001b[39;00m sos\n",
      "File \u001b[1;32m~\\AppData\\Roaming\\Python\\Python311\\site-packages\\pytc2\\sistemas_lineales.py:1617\u001b[0m, in \u001b[0;36mzpk2sos_analog\u001b[1;34m(zz, pp, kk, pairing)\u001b[0m\n\u001b[0;32m   1613\u001b[0m z_v, p_v, k_v \u001b[38;5;241m=\u001b[39m tf2zpk(tf_verif\u001b[38;5;241m.\u001b[39mnum, tf_verif\u001b[38;5;241m.\u001b[39mden)\n\u001b[0;32m   1615\u001b[0m num_t, den_t \u001b[38;5;241m=\u001b[39m zpk2tf(zz, pp, kk)\n\u001b[1;32m-> 1617\u001b[0m \u001b[38;5;28;01mif\u001b[39;00m np\u001b[38;5;241m.\u001b[39mstd(\u001b[43mnum_t\u001b[49m\u001b[43m \u001b[49m\u001b[38;5;241;43m-\u001b[39;49m\u001b[43m \u001b[49m\u001b[43mtf_verif\u001b[49m\u001b[38;5;241;43m.\u001b[39;49m\u001b[43mnum\u001b[49m) \u001b[38;5;241m>\u001b[39m \u001b[38;5;241m1e-10\u001b[39m:\n\u001b[0;32m   1619\u001b[0m     \u001b[38;5;28;01mraise\u001b[39;00m \u001b[38;5;167;01mValueError\u001b[39;00m(\u001b[38;5;124m'\u001b[39m\u001b[38;5;124mIncorrect factorization: Zeros does not match\u001b[39m\u001b[38;5;124m'\u001b[39m)\n\u001b[0;32m   1621\u001b[0m \u001b[38;5;28;01mif\u001b[39;00m np\u001b[38;5;241m.\u001b[39mstd(den_t \u001b[38;5;241m-\u001b[39m tf_verif\u001b[38;5;241m.\u001b[39mden) \u001b[38;5;241m>\u001b[39m \u001b[38;5;241m1e-10\u001b[39m:\n",
      "\u001b[1;31mValueError\u001b[0m: operands could not be broadcast together with shapes (4,) (3,) "
     ]
    }
   ],
   "source": [
    "Ws = 1/3\n",
    "\n",
    "ee = (np.sqrt( 10**(1 / 10) - 1 ))   \n",
    "\n",
    "print(ee)\n",
    "\n",
    "orden = 3\n",
    "\n",
    "print(orden)\n",
    "\n",
    "z, p, k = signal.cheby1(orden, Wn=Ws, rp=1, btype='highpass', analog=True, output='zpk')\n",
    "\n",
    "Num, Den = signal.zpk2tf(z, p, k)\n",
    "\n",
    "print_subtitle('Transferencia normalizada tipo Butterworth FILTRO PASA ALTOS')\n",
    "\n",
    "hp = tf2sos_analog(Num, Den)\n",
    "\n",
    "pretty_print_SOS(hp)\n",
    "\n",
    "analyze_sys(hp)"
   ]
  },
  {
   "cell_type": "code",
   "execution_count": null,
   "id": "0a17d77b",
   "metadata": {},
   "outputs": [],
   "source": []
  }
 ],
 "metadata": {
  "kernelspec": {
   "display_name": "Python 3 (ipykernel)",
   "language": "python",
   "name": "python3"
  },
  "language_info": {
   "codemirror_mode": {
    "name": "ipython",
    "version": 3
   },
   "file_extension": ".py",
   "mimetype": "text/x-python",
   "name": "python",
   "nbconvert_exporter": "python",
   "pygments_lexer": "ipython3",
   "version": "3.11.2"
  }
 },
 "nbformat": 4,
 "nbformat_minor": 5
}
