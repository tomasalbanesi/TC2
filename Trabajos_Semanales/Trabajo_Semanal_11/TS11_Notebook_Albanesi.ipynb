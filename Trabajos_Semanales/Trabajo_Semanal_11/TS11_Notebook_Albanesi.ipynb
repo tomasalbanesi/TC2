{
 "cells": [
  {
   "cell_type": "markdown",
   "id": "1e29e07d-95a9-46b7-b49c-c4893e1a71f8",
   "metadata": {},
   "source": [
    "<img src=\"./img/logo_UTN.svg\" align=\"right\" width=\"200\" /> \n",
    "\n",
    "### Teoría de los Circuitos 2\n",
    "\n",
    "# Trabajo semanal 11\n",
    "### Tomas A. Albanesi\n"
   ]
  },
  {
   "cell_type": "markdown",
   "id": "0f41d7c7-f045-4fbf-90ae-07a443ab34c4",
   "metadata": {},
   "source": [
    "## Indice de contenidos:\n",
    "* [1. Consignas](#1)\n",
    "* [2. Inicializaciones de código](#2)\n",
    "* [3. Resolución Punto 1)](#3)\n",
    "    * [3.1. Resolución analitica](#3.1)\n",
    "    * [3.2. Resolución simbolica](#3.2)\n",
    "    * [3.3. Simulacion circuital](#3.3)\n",
    "* [4. Resolución Punto 2)](#4)\n",
    "    * [4.1. Resolución analitica](#4.1)\n",
    "* [5. Conclusiones generales](#5)"
   ]
  },
  {
   "cell_type": "markdown",
   "id": "6b9c06dc-cfba-4176-8cd4-f1106478eb71",
   "metadata": {},
   "source": [
    "## 1. Consigna <a class=\"anchor\" id=\"1\"></a>\n",
    "\n",
    "<img src=\"./img/Consigna1.png\" width=\"700\" align='left'/>\n",
    "<img src=\"./img/Consigna2.png\" width=\"700\" align='left'/>"
   ]
  },
  {
   "cell_type": "markdown",
   "id": "85e2a6c7-17b3-4837-bfa7-f3d186b3084b",
   "metadata": {},
   "source": [
    "## 2. Inicializaciones de código <a class=\"anchor\" id=\"2\"></a>"
   ]
  },
  {
   "cell_type": "code",
   "execution_count": 10,
   "id": "96df244e-caff-49ba-b3f6-e15ff8933d96",
   "metadata": {},
   "outputs": [],
   "source": [
    "# Importacion de librerias a utilizar en todo el notebook\n",
    "import numpy as np\n",
    "import matplotlib.pyplot as plt\n",
    "import matplotlib as mpl\n",
    "import sympy as sp\n",
    "from IPython.display import IFrame\n",
    "from pytc2.sintesis_dipolo import foster, cauer_LC\n",
    "from pytc2.dibujar import dibujar_foster_serie, dibujar_foster_derivacion, dibujar_cauer_LC\n",
    "from pytc2.dibujar import display, dibujar_puerto_entrada, dibujar_funcion_exc_abajo,  dibujar_elemento_serie, dibujar_espacio_derivacion, Resistor,dibujar_tanque_RC_derivacion, Capacitor, Inductor, dibujar_elemento_derivacion\n",
    "from pytc2.general import print_latex, print_subtitle, a_equal_b_latex_s\n",
    "from pytc2.remociones import remover_polo_dc, remover_polo_jw, remover_valor_en_dc, remover_valor_en_infinito, remover_polo_sigma, remover_valor, remover_polo_infinito\n",
    "\n",
    "# Inicializacion de gráficos\n",
    "plt.figure(1)\n",
    "plt.close(1)\n",
    "\n",
    "fig_sz_x = 13\n",
    "fig_sz_y = 7\n",
    "fig_dpi = 80 # dpi\n",
    "fig_font_size = 16\n",
    "\n",
    "mpl.rcParams['figure.figsize'] = (fig_sz_x, fig_sz_y)\n",
    "mpl.rcParams['figure.dpi'] = fig_dpi\n",
    "plt.rcParams.update({'font.size':fig_font_size})"
   ]
  },
  {
   "cell_type": "markdown",
   "id": "740557d0-6022-4dd3-aad0-c163451e89d1",
   "metadata": {},
   "source": [
    "## 3. Resolución Punto 1) <a class=\"anchor\" id=\"3\"></a>"
   ]
  },
  {
   "cell_type": "markdown",
   "id": "da39cbdb-a9bc-4fdf-8f9b-1d7843a89676",
   "metadata": {},
   "source": [
    "### 3.1. Resolución analitica <a class=\"anchor\" id=\"3.1\"></a>"
   ]
  },
  {
   "cell_type": "code",
   "execution_count": 15,
   "id": "5830041e-af2a-4ba2-b695-4d3b84d1be64",
   "metadata": {},
   "outputs": [
    {
     "data": {
      "text/html": [
       "\n",
       "        <iframe\n",
       "            width=\"1000\"\n",
       "            height=\"1000\"\n",
       "            src=\"./docs/TC2_Albanesi_TS11_ResolucionAnaliticaPunto1.pdf\"\n",
       "            frameborder=\"0\"\n",
       "            allowfullscreen\n",
       "            \n",
       "        ></iframe>\n",
       "        "
      ],
      "text/plain": [
       "<IPython.lib.display.IFrame at 0x223b6222950>"
      ]
     },
     "execution_count": 15,
     "metadata": {},
     "output_type": "execute_result"
    }
   ],
   "source": [
    "# Visualizacion de PDF\n",
    "IFrame(\"./docs/TC2_Albanesi_TS11_ResolucionAnaliticaPunto1.pdf\", width=1000, height=1000)"
   ]
  },
  {
   "cell_type": "markdown",
   "id": "908e71b1-f474-433b-9998-6bf6e42e79f7",
   "metadata": {},
   "source": [
    "### 3.2. Resolución simbolica <a class=\"anchor\" id=\"3.2\"></a>"
   ]
  },
  {
   "cell_type": "code",
   "execution_count": 8,
   "id": "44175fed-fae4-4643-9dcf-bcbce65daf65",
   "metadata": {},
   "outputs": [
    {
     "data": {
      "text/latex": [
       "$\\displaystyle Y_{11}(s)=\\frac{3 s \\left(s^{2} + \\frac{7}{3}\\right)}{\\left(s^{2} + 2\\right) \\left(s^{2} + 5\\right)}$"
      ],
      "text/plain": [
       "<IPython.core.display.Math object>"
      ]
     },
     "metadata": {},
     "output_type": "display_data"
    }
   ],
   "source": [
    "# Resolución simbólica\n",
    "s = sp.symbols('s', complex=True)\n",
    "\n",
    "# Función de excitación no disipativa\n",
    "Y11 = (3*s*(s**2+7/3))/((s**2+2)*(s**2+5))\n",
    "Y11 = sp.nsimplify(Y11)\n",
    "print_latex(a_equal_b_latex_s('Y_{11}(s)', Y11))"
   ]
  },
  {
   "cell_type": "code",
   "execution_count": 13,
   "id": "0fd5f4fd",
   "metadata": {},
   "outputs": [
    {
     "data": {
      "text/latex": [
       "$\\displaystyle Z_1(s)=\\frac{1}{s}$"
      ],
      "text/plain": [
       "<IPython.core.display.Math object>"
      ]
     },
     "metadata": {},
     "output_type": "display_data"
    },
    {
     "data": {
      "text/latex": [
       "$\\displaystyle Z_2(s)=\\frac{\\left(s^{2} + 1\\right) \\left(s^{2} + 3\\right)}{s \\left(3 s^{2} + 7\\right)}$"
      ],
      "text/plain": [
       "<IPython.core.display.Math object>"
      ]
     },
     "metadata": {},
     "output_type": "display_data"
    },
    {
     "data": {
      "text/latex": [
       "$\\displaystyle k0=\\frac{2 s}{s^{2} + 1}$"
      ],
      "text/plain": [
       "<IPython.core.display.Math object>"
      ]
     },
     "metadata": {},
     "output_type": "display_data"
    },
    {
     "data": {
      "text/latex": [
       "$\\displaystyle Y_4(s)=\\frac{s}{s^{2} + 3}$"
      ],
      "text/plain": [
       "<IPython.core.display.Math object>"
      ]
     },
     "metadata": {},
     "output_type": "display_data"
    },
    {
     "data": {
      "text/latex": [
       "$\\displaystyle Z_5(s)=\\frac{3}{s}$"
      ],
      "text/plain": [
       "<IPython.core.display.Math object>"
      ]
     },
     "metadata": {},
     "output_type": "display_data"
    },
    {
     "data": {
      "text/latex": [
       "$\\displaystyle Z_6(s)=s$"
      ],
      "text/plain": [
       "<IPython.core.display.Math object>"
      ]
     },
     "metadata": {},
     "output_type": "display_data"
    }
   ],
   "source": [
    "# Remoción parcial de polo en 0\n",
    "\n",
    "Z2, Z1 = remover_polo_dc(1/Y11, omega_zero= 1)\n",
    "\n",
    "# Remoción completa de polo sobre eje jw=1\n",
    "\n",
    "Y4, k1, L1, C2 = remover_polo_jw(1/Z2, omega= 1, isImpedance=False)\n",
    "\n",
    "# Remoción completa de polo en 0\n",
    "\n",
    "Z6, Z5 = remover_polo_dc(1/Y4)\n",
    "\n",
    "print_latex(a_equal_b_latex_s('Z_1(s)', Z1))\n",
    "print_latex(a_equal_b_latex_s('Z_2(s)', Z2))\n",
    "print_latex(a_equal_b_latex_s('k0', k1))\n",
    "print_latex(a_equal_b_latex_s('Y_4(s)', Y4))\n",
    "print_latex(a_equal_b_latex_s('Z_5(s)', Z5))\n",
    "print_latex(a_equal_b_latex_s('Z_6(s)', Z6))"
   ]
  },
  {
   "cell_type": "markdown",
   "id": "19bbceb9",
   "metadata": {},
   "source": [
    "### 3.3. Simulacion circuital <a class=\"anchor\" id=\"3.3\"></a>"
   ]
  },
  {
   "cell_type": "markdown",
   "id": "bde2fc6d",
   "metadata": {},
   "source": [
    "<img src=\"./img/SimulacionCircuital_Punto1_Circuito.png\" width=\"1000\" align='left'/>\n",
    "<img src=\"./img/SimulacionCircuital_Punto1_Simulacion.png\" width=\"1000\" align='left'/>"
   ]
  },
  {
   "cell_type": "markdown",
   "id": "e7d78d1e-9c45-4bc8-abe2-8b52e3273985",
   "metadata": {},
   "source": [
    "## 4. Resolución Punto 2) <a class=\"anchor\" id=\"4\"></a>"
   ]
  },
  {
   "cell_type": "markdown",
   "id": "35e379e6-0690-479c-a6e2-2243c7f02af3",
   "metadata": {},
   "source": [
    "### 4.1. Resolución analítica <a class=\"anchor\" id=\"4.1\"></a>"
   ]
  },
  {
   "cell_type": "code",
   "execution_count": 16,
   "id": "a56855da-f902-467d-845c-10a1282b4f27",
   "metadata": {},
   "outputs": [
    {
     "data": {
      "text/html": [
       "\n",
       "        <iframe\n",
       "            width=\"1000\"\n",
       "            height=\"1000\"\n",
       "            src=\"./docs/TC2_Albanesi_TS11_ResolucionAnaliticaPunto2.pdf\"\n",
       "            frameborder=\"0\"\n",
       "            allowfullscreen\n",
       "            \n",
       "        ></iframe>\n",
       "        "
      ],
      "text/plain": [
       "<IPython.lib.display.IFrame at 0x223b61576d0>"
      ]
     },
     "execution_count": 16,
     "metadata": {},
     "output_type": "execute_result"
    }
   ],
   "source": [
    "# Visualizacion de PDF\n",
    "IFrame(\"./docs/TC2_Albanesi_TS11_ResolucionAnaliticaPunto2.pdf\", width=1000, height=1000)"
   ]
  },
  {
   "cell_type": "markdown",
   "id": "545423e9-14cd-48f9-9f8c-5b74e5510f6e",
   "metadata": {},
   "source": [
    "## Conclusiones generales <a class=\"anchor\" id=\"5\"></a>"
   ]
  },
  {
   "cell_type": "markdown",
   "id": "5f665fe6-de86-425a-920a-1695f30816ea",
   "metadata": {},
   "source": [
    "Como conclusiones generales sobre esta tarea semanal, pude comprender los conceptos de sintesis de cuadripolos tanto disipativos como no disipativos, asi como aplicar las herramientes ya aprendidas en funciones de excitacion."
   ]
  }
 ],
 "metadata": {
  "kernelspec": {
   "display_name": "Python 3 (ipykernel)",
   "language": "python",
   "name": "python3"
  },
  "language_info": {
   "codemirror_mode": {
    "name": "ipython",
    "version": 3
   },
   "file_extension": ".py",
   "mimetype": "text/x-python",
   "name": "python",
   "nbconvert_exporter": "python",
   "pygments_lexer": "ipython3",
   "version": "3.11.5"
  }
 },
 "nbformat": 4,
 "nbformat_minor": 5
}
