{
 "cells": [
  {
   "cell_type": "markdown",
   "id": "1e29e07d-95a9-46b7-b49c-c4893e1a71f8",
   "metadata": {},
   "source": [
    "<img src=\"./img/logo_UTN.svg\" align=\"right\" width=\"150\" /> \n",
    "\n",
    "#### Teoría de los Circuitos 2\n",
    "\n",
    "# Trabajo semanal 3\n",
    "#### Tomas A. Albanesi\n"
   ]
  },
  {
   "cell_type": "markdown",
   "id": "f8c2f277-3af8-4034-8ce6-b75349a19955",
   "metadata": {},
   "source": [
    "## Indice de contenidos:\n",
    "* [Consigna](#consigna)\n",
    "* [Punto 1](#punto1)\n",
    "* [Punto 2](#punto2)\n",
    "* [Punto 3](#punto3)\n",
    "* [Bonus: Simulacion numerica (sin normalizar)](#simNumericaSinNorm)\n",
    "* [Bonus: Simulacion circuital (sin normalizar)](#simCircuitalSinNorm)\n",
    "* [Bonus: Normalizacion en frecuencia e impedancia](#normalizacion)\n",
    "* [Bonus: Simulacion numerica (con normalizar)](#simNumericaConNorm)\n",
    "* [Bonus: Simulacion circuital (con normalizar)](#simCircuitalConNorm)\n",
    "* [Bonus: Sensibilidad](#sensibilidad)\n",
    "* [Bonus: Transferencia Butterworth](#transferenciaButter)\n",
    "* [Bonus: Filtro pasabanda](#filtroPasabanda)\n",
    "* [Conclusiones](#conclusiones)"
   ]
  }
 ],
 "metadata": {
  "kernelspec": {
   "display_name": "Python 3 (ipykernel)",
   "language": "python",
   "name": "python3"
  },
  "language_info": {
   "codemirror_mode": {
    "name": "ipython",
    "version": 3
   },
   "file_extension": ".py",
   "mimetype": "text/x-python",
   "name": "python",
   "nbconvert_exporter": "python",
   "pygments_lexer": "ipython3",
   "version": "3.11.2"
  }
 },
 "nbformat": 4,
 "nbformat_minor": 5
}
