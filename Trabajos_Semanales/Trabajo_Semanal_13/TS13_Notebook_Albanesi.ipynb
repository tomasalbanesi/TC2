{
 "cells": [
  {
   "cell_type": "markdown",
   "id": "1e29e07d-95a9-46b7-b49c-c4893e1a71f8",
   "metadata": {},
   "source": [
    "<img src=\"./img/logo_UTN.svg\" align=\"right\" width=\"200\" /> \n",
    "\n",
    "### Teoría de los Circuitos 2\n",
    "\n",
    "# Trabajo semanal 13\n",
    "### Tomas A. Albanesi\n"
   ]
  },
  {
   "cell_type": "markdown",
   "id": "0f41d7c7-f045-4fbf-90ae-07a443ab34c4",
   "metadata": {},
   "source": [
    "## Indice de contenidos:\n",
    "* [1. Consignas](#1)\n",
    "* [2. Inicializaciones de código](#2)\n",
    "* [3. Resolución Punto 1)](#3)\n",
    "* [4. Resolución Punto 2)](#4)\n",
    "* [5. Resolución Punto 3)](#5)\n",
    "* [6. Resolución Punto 4)](#6)\n",
    "* [7. Resolución Punto 5)](#7)\n",
    "* [8. Conclusiones generales](#8)"
   ]
  },
  {
   "cell_type": "markdown",
   "id": "6b9c06dc-cfba-4176-8cd4-f1106478eb71",
   "metadata": {},
   "source": [
    "## 1. Consigna <a class=\"anchor\" id=\"1\"></a>\n",
    "\n",
    "<img src=\"./img/Consigna1.png\" width=\"800\" align=\"left\"/>\n",
    "<img src=\"./img/Consigna2.png\" width=\"800\" align=\"left\"/>n"
   ]
  },
  {
   "cell_type": "markdown",
   "id": "85e2a6c7-17b3-4837-bfa7-f3d186b3084b",
   "metadata": {},
   "source": [
    "## 2. Inicializaciones de código <a class=\"anchor\" id=\"2\"></a>"
   ]
  },
  {
   "cell_type": "code",
   "execution_count": 1,
   "id": "96df244e-caff-49ba-b3f6-e15ff8933d96",
   "metadata": {},
   "outputs": [],
   "source": [
    "# Importacion de librerias a utilizar en todo el notebook\n",
    "import numpy as np\n",
    "import matplotlib.pyplot as plt\n",
    "import matplotlib as mpl\n",
    "import sympy as sp\n",
    "from IPython.display import IFrame\n",
    "from pytc2.sintesis_dipolo import foster, cauer_LC\n",
    "from pytc2.dibujar import dibujar_foster_serie, dibujar_foster_derivacion, dibujar_cauer_LC\n",
    "from pytc2.dibujar import display, dibujar_puerto_entrada, dibujar_funcion_exc_abajo,  dibujar_elemento_serie, dibujar_espacio_derivacion, Resistor,dibujar_tanque_RC_derivacion, Capacitor, Inductor, dibujar_elemento_derivacion\n",
    "from pytc2.general import print_latex, print_subtitle, a_equal_b_latex_s\n",
    "from pytc2.remociones import remover_polo_dc, remover_polo_jw, remover_valor_en_dc, remover_valor_en_infinito, remover_polo_sigma, remover_valor, remover_polo_infinito\n",
    "\n",
    "# Inicializacion de gráficos\n",
    "plt.figure(1)\n",
    "plt.close(1)\n",
    "\n",
    "fig_sz_x = 13\n",
    "fig_sz_y = 7\n",
    "fig_dpi = 80 # dpi\n",
    "fig_font_size = 16\n",
    "\n",
    "mpl.rcParams['figure.figsize'] = (fig_sz_x, fig_sz_y)\n",
    "mpl.rcParams['figure.dpi'] = fig_dpi\n",
    "plt.rcParams.update({'font.size':fig_font_size})"
   ]
  },
  {
   "cell_type": "markdown",
   "id": "740557d0-6022-4dd3-aad0-c163451e89d1",
   "metadata": {},
   "source": [
    "## 3. Resolución Punto 1) <a class=\"anchor\" id=\"3\"></a>"
   ]
  },
  {
   "cell_type": "code",
   "execution_count": 2,
   "id": "5830041e-af2a-4ba2-b695-4d3b84d1be64",
   "metadata": {},
   "outputs": [
    {
     "data": {
      "text/html": [
       "\n",
       "        <iframe\n",
       "            width=\"1000\"\n",
       "            height=\"1000\"\n",
       "            src=\"./docs/TS13_Albanesi_Punto1Analitico.pdf\"\n",
       "            frameborder=\"0\"\n",
       "            allowfullscreen\n",
       "            \n",
       "        ></iframe>\n",
       "        "
      ],
      "text/plain": [
       "<IPython.lib.display.IFrame at 0x1e3a2047dd0>"
      ]
     },
     "execution_count": 2,
     "metadata": {},
     "output_type": "execute_result"
    }
   ],
   "source": [
    "# Visualizacion de PDF\n",
    "IFrame(\"./docs/TS13_Albanesi_Punto1Analitico.pdf\", width=1000, height=1000)"
   ]
  },
  {
   "cell_type": "markdown",
   "id": "e7d78d1e-9c45-4bc8-abe2-8b52e3273985",
   "metadata": {},
   "source": [
    "## 4. Resolución Punto 2) <a class=\"anchor\" id=\"4\"></a>"
   ]
  },
  {
   "cell_type": "code",
   "execution_count": 5,
   "id": "a56855da-f902-467d-845c-10a1282b4f27",
   "metadata": {},
   "outputs": [
    {
     "data": {
      "text/html": [
       "\n",
       "        <iframe\n",
       "            width=\"1000\"\n",
       "            height=\"1000\"\n",
       "            src=\"./docs/TS13_Albanesi_Punto2Analitico.pdf\"\n",
       "            frameborder=\"0\"\n",
       "            allowfullscreen\n",
       "            \n",
       "        ></iframe>\n",
       "        "
      ],
      "text/plain": [
       "<IPython.lib.display.IFrame at 0x1e3a153e8d0>"
      ]
     },
     "execution_count": 5,
     "metadata": {},
     "output_type": "execute_result"
    }
   ],
   "source": [
    "# Visualizacion de PDF\n",
    "IFrame(\"./docs/TS13_Albanesi_Punto2Analitico.pdf\", width=1000, height=1000)"
   ]
  },
  {
   "cell_type": "markdown",
   "id": "b087d41f-f34e-4283-8f9e-38445db308fe",
   "metadata": {},
   "source": [
    "## 5. Resolución Punto 3) <a class=\"anchor\" id=\"5\"></a>"
   ]
  },
  {
   "cell_type": "markdown",
   "id": "26688907-5c5f-4890-8dbb-a7e92e72afba",
   "metadata": {},
   "source": [
    "A continuación podemos ver el circuito representado en el software LTSpice:\n",
    "\n",
    "<img src=\"./img/CircuitoPunto3.png\" width=\"800\" align=\"center\"/>\n",
    "\n",
    "Y ademas, simulando los parametros $S_{11}$ y $S_{21}$:\n",
    "\n",
    "<img src=\"./img/SimulacionPunto3.png\" width=\"800\" align=\"center\"/>"
   ]
  },
  {
   "cell_type": "markdown",
   "id": "76425cc8-5f60-4299-b33b-f05936eadb84",
   "metadata": {},
   "source": [
    "## 6. Resolución Punto 4) <a class=\"anchor\" id=\"6\"></a>"
   ]
  },
  {
   "cell_type": "markdown",
   "id": "9a076dfe-1098-4717-9e58-2892c4d93a73",
   "metadata": {},
   "source": [
    "Como podemos observar y visualizar en la simulación del punto anterior, realizada en LTSpice, el parámetro $S_{11}$ representa el coeficiente de reflexión, y se observa que tiene un comportamiento de pasa altos.\n",
    "\n",
    "Esto tiene como consecuencia lo siguiente:\n",
    "\n",
    "* En el centro de la banda de paso la reflexion sera total.\n",
    "* Cuando se encuentre en la frecuencia de corte, la función se encuentra en su mayoria dentro de la banda de paso y la reflexion sera total.\n",
    "* En el centro de la banda de stop la reflexion será practicamente nula."
   ]
  },
  {
   "cell_type": "markdown",
   "id": "2d2a3fdf-b6a8-4ef1-9063-6af4dd6cfd94",
   "metadata": {},
   "source": [
    "## 7. Resolución Punto 5) <a class=\"anchor\" id=\"7\"></a>"
   ]
  },
  {
   "cell_type": "code",
   "execution_count": 6,
   "id": "418b1729-cd91-4139-acab-499e7f48d6c1",
   "metadata": {},
   "outputs": [
    {
     "data": {
      "text/html": [
       "\n",
       "        <iframe\n",
       "            width=\"1000\"\n",
       "            height=\"1000\"\n",
       "            src=\"./docs/TS13_Albanesi_Punto5Analitico.pdf\"\n",
       "            frameborder=\"0\"\n",
       "            allowfullscreen\n",
       "            \n",
       "        ></iframe>\n",
       "        "
      ],
      "text/plain": [
       "<IPython.lib.display.IFrame at 0x1e3a1bc4b50>"
      ]
     },
     "execution_count": 6,
     "metadata": {},
     "output_type": "execute_result"
    }
   ],
   "source": [
    "# Visualizacion de PDF\n",
    "IFrame(\"./docs/TS13_Albanesi_Punto5Analitico.pdf\", width=1000, height=1000)"
   ]
  },
  {
   "cell_type": "markdown",
   "id": "17700586-4b20-49bb-ace8-ef4530d21a19",
   "metadata": {},
   "source": [
    "A continuación podemos ver el circuito representado en el software LTSpice:\n",
    "\n",
    "<img src=\"./img/CircuitoPunto5.png\" width=\"800\" align=\"center\"/>\n",
    "\n",
    "Y ademas, simulando los parametros $S_{11}$ y $S_{21}$:\n",
    "\n",
    "<img src=\"./img/SimulacionPunto5.png\" width=\"800\" align=\"center\"/>"
   ]
  },
  {
   "cell_type": "markdown",
   "id": "545423e9-14cd-48f9-9f8c-5b74e5510f6e",
   "metadata": {},
   "source": [
    "## 8. Conclusiones generales <a class=\"anchor\" id=\"8\"></a>"
   ]
  },
  {
   "cell_type": "markdown",
   "id": "5f665fe6-de86-425a-920a-1695f30816ea",
   "metadata": {},
   "source": [
    "A través de esta tarea semanal pude comprender verdaderamente el significado de la teoria moderna de filtrado, y a la vez ser capaz de aplicar conocimientos del cuatrimestre pasado. \n",
    "\n",
    "Se puede observar, que a traves de la sintesis de filtros utilizando los parametros S o Scattering, el diseño y sintesis de vuelve mas sencillo y sistemático.\n",
    "\n",
    "Realmente puedo observar la utilidad de la teoria moderna y los parametros S para sintetizar la gran mayoria de los filtros."
   ]
  }
 ],
 "metadata": {
  "kernelspec": {
   "display_name": "Python 3 (ipykernel)",
   "language": "python",
   "name": "python3"
  },
  "language_info": {
   "codemirror_mode": {
    "name": "ipython",
    "version": 3
   },
   "file_extension": ".py",
   "mimetype": "text/x-python",
   "name": "python",
   "nbconvert_exporter": "python",
   "pygments_lexer": "ipython3",
   "version": "3.11.5"
  }
 },
 "nbformat": 4,
 "nbformat_minor": 5
}
