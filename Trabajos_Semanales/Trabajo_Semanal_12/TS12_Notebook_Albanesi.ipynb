{
 "cells": [
  {
   "cell_type": "markdown",
   "id": "1e29e07d-95a9-46b7-b49c-c4893e1a71f8",
   "metadata": {},
   "source": [
    "<img src=\"./img/logo_UTN.svg\" align=\"right\" width=\"200\" /> \n",
    "\n",
    "### Teoría de los Circuitos 2\n",
    "\n",
    "# Trabajo semanal 12\n",
    "### Tomas A. Albanesi\n"
   ]
  },
  {
   "cell_type": "markdown",
   "id": "0f41d7c7-f045-4fbf-90ae-07a443ab34c4",
   "metadata": {},
   "source": [
    "## Indice de contenidos:\n",
    "* [1. Consignas](#1)\n",
    "* [2. Inicializaciones de código](#2)\n",
    "* [3. Resolución Punto 1)](#3)\n",
    "    * [3.1. Resolución analitica](#3.1)\n",
    "* [4. Resolución Punto 2)](#4)\n",
    "    * [4.1. Resolución analitica](#4.1)\n",
    "* [5. Conclusiones generales](#5)"
   ]
  },
  {
   "cell_type": "markdown",
   "id": "6b9c06dc-cfba-4176-8cd4-f1106478eb71",
   "metadata": {},
   "source": [
    "## 1. Consigna <a class=\"anchor\" id=\"1\"></a>\n",
    "\n",
    "<img src=\"./img/Consigna1.png\" width=\"800\" align='left'/>\n",
    "<img src=\"./img/Consigna2.png\" width=\"800\" align='left'/>"
   ]
  },
  {
   "cell_type": "markdown",
   "id": "85e2a6c7-17b3-4837-bfa7-f3d186b3084b",
   "metadata": {},
   "source": [
    "## 2. Inicializaciones de código <a class=\"anchor\" id=\"2\"></a>"
   ]
  },
  {
   "cell_type": "code",
   "execution_count": 1,
   "id": "96df244e-caff-49ba-b3f6-e15ff8933d96",
   "metadata": {},
   "outputs": [],
   "source": [
    "# Importacion de librerias a utilizar en todo el notebook\n",
    "import numpy as np\n",
    "import matplotlib.pyplot as plt\n",
    "import matplotlib as mpl\n",
    "import sympy as sp\n",
    "from IPython.display import IFrame\n",
    "from pytc2.sintesis_dipolo import foster, cauer_LC\n",
    "from pytc2.dibujar import dibujar_foster_serie, dibujar_foster_derivacion, dibujar_cauer_LC\n",
    "from pytc2.dibujar import display, dibujar_puerto_entrada, dibujar_funcion_exc_abajo,  dibujar_elemento_serie, dibujar_espacio_derivacion, Resistor,dibujar_tanque_RC_derivacion, Capacitor, Inductor, dibujar_elemento_derivacion\n",
    "from pytc2.general import print_latex, print_subtitle, a_equal_b_latex_s\n",
    "from pytc2.remociones import remover_polo_dc, remover_polo_jw, remover_valor_en_dc, remover_valor_en_infinito, remover_polo_sigma, remover_valor, remover_polo_infinito\n",
    "\n",
    "# Inicializacion de gráficos\n",
    "plt.figure(1)\n",
    "plt.close(1)\n",
    "\n",
    "fig_sz_x = 13\n",
    "fig_sz_y = 7\n",
    "fig_dpi = 80 # dpi\n",
    "fig_font_size = 16\n",
    "\n",
    "mpl.rcParams['figure.figsize'] = (fig_sz_x, fig_sz_y)\n",
    "mpl.rcParams['figure.dpi'] = fig_dpi\n",
    "plt.rcParams.update({'font.size':fig_font_size})"
   ]
  },
  {
   "cell_type": "markdown",
   "id": "740557d0-6022-4dd3-aad0-c163451e89d1",
   "metadata": {},
   "source": [
    "## 3. Resolución Punto 1) <a class=\"anchor\" id=\"3\"></a>"
   ]
  },
  {
   "cell_type": "markdown",
   "id": "da39cbdb-a9bc-4fdf-8f9b-1d7843a89676",
   "metadata": {},
   "source": [
    "### 3.1. Resolución analitica <a class=\"anchor\" id=\"3.1\"></a>"
   ]
  },
  {
   "cell_type": "code",
   "execution_count": 4,
   "id": "5830041e-af2a-4ba2-b695-4d3b84d1be64",
   "metadata": {},
   "outputs": [
    {
     "data": {
      "text/html": [
       "\n",
       "        <iframe\n",
       "            width=\"1000\"\n",
       "            height=\"1000\"\n",
       "            src=\"./docs/TS12_Albanesi_Punto1Analitico.pdf\"\n",
       "            frameborder=\"0\"\n",
       "            allowfullscreen\n",
       "            \n",
       "        ></iframe>\n",
       "        "
      ],
      "text/plain": [
       "<IPython.lib.display.IFrame at 0x18299ca08d0>"
      ]
     },
     "execution_count": 4,
     "metadata": {},
     "output_type": "execute_result"
    }
   ],
   "source": [
    "# Visualizacion de PDF\n",
    "IFrame(\"./docs/TS12_Albanesi_Punto1Analitico.pdf\", width=1000, height=1000)"
   ]
  },
  {
   "cell_type": "markdown",
   "id": "e7d78d1e-9c45-4bc8-abe2-8b52e3273985",
   "metadata": {},
   "source": [
    "## 4. Resolución Punto 2) <a class=\"anchor\" id=\"4\"></a>"
   ]
  },
  {
   "cell_type": "markdown",
   "id": "35e379e6-0690-479c-a6e2-2243c7f02af3",
   "metadata": {},
   "source": [
    "### 4.1. Resolución analítica <a class=\"anchor\" id=\"4.1\"></a>"
   ]
  },
  {
   "cell_type": "code",
   "execution_count": 6,
   "id": "a56855da-f902-467d-845c-10a1282b4f27",
   "metadata": {},
   "outputs": [
    {
     "data": {
      "text/html": [
       "\n",
       "        <iframe\n",
       "            width=\"1000\"\n",
       "            height=\"1000\"\n",
       "            src=\"./docs/TS12_Albanesi_Punto2Analitico.pdf\"\n",
       "            frameborder=\"0\"\n",
       "            allowfullscreen\n",
       "            \n",
       "        ></iframe>\n",
       "        "
      ],
      "text/plain": [
       "<IPython.lib.display.IFrame at 0x182ab39e290>"
      ]
     },
     "execution_count": 6,
     "metadata": {},
     "output_type": "execute_result"
    }
   ],
   "source": [
    "# Visualizacion de PDF\n",
    "IFrame(\"./docs/TS12_Albanesi_Punto2Analitico.pdf\", width=1000, height=1000)"
   ]
  },
  {
   "cell_type": "markdown",
   "id": "545423e9-14cd-48f9-9f8c-5b74e5510f6e",
   "metadata": {},
   "source": [
    "## Conclusiones generales <a class=\"anchor\" id=\"5\"></a>"
   ]
  },
  {
   "cell_type": "markdown",
   "id": "5f665fe6-de86-425a-920a-1695f30816ea",
   "metadata": {},
   "source": [
    "Se pudo evidenciar la sintesis de redes simplemente cargadas, aplicando principalmente la teoria aprendida y ademas, conceptos de temas anteriores, como interconexion de cuadripolos para realizar las verificaciones de las trasferencias."
   ]
  }
 ],
 "metadata": {
  "kernelspec": {
   "display_name": "Python 3 (ipykernel)",
   "language": "python",
   "name": "python3"
  },
  "language_info": {
   "codemirror_mode": {
    "name": "ipython",
    "version": 3
   },
   "file_extension": ".py",
   "mimetype": "text/x-python",
   "name": "python",
   "nbconvert_exporter": "python",
   "pygments_lexer": "ipython3",
   "version": "3.11.5"
  }
 },
 "nbformat": 4,
 "nbformat_minor": 5
}
