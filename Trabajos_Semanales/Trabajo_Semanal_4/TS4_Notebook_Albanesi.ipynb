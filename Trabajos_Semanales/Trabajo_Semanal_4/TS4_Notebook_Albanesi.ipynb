{
 "cells": [
  {
   "cell_type": "markdown",
   "id": "1e29e07d-95a9-46b7-b49c-c4893e1a71f8",
   "metadata": {},
   "source": [
    "<img src=\"./img/logo_UTN.svg\" align=\"right\" width=\"150\" /> \n",
    "\n",
    "#### Teoría de los Circuitos 2\n",
    "\n",
    "# Trabajo semanal 4\n",
    "#### Tomas A. Albanesi\n"
   ]
  },
  {
   "cell_type": "markdown",
   "id": "f8c2f277-3af8-4034-8ce6-b75349a19955",
   "metadata": {},
   "source": [
    "## Indice de contenidos:\n",
    "* [Consigna](#consigna)\n",
    "* [Punto 1](#punto1)\n",
    "    * [1.a. Resolucion analitica](#punto1a)\n",
    "* [Punto 2](#punto2)\n",
    "    * [2.a. Resolucion analitica](#punto2a)\n",
    "    * [2.b. Simulacion numerica](#punto2b)\n",
    "* [Punto 3](#punto3)\n",
    "    * [3.a. Resolucion analitica](#punto3a)\n",
    "    * [3.b. Simulacion circuital](#punto3b)\n",
    "* [Punto 4](#punto3)\n",
    "    * [4.a. Resolucion analitica](#punto4a)\n",
    "    * [4.b. Simulacion circuital](#punto4b)\n",
    "* [Punto 5](#punto3)\n",
    "    * [5.a. Resolucion analitica](#punto5a)\n",
    "    * [5.b. Simulacion circuital](#punto5b)\n",
    "* [Bonus 1: Frecuencia de Butterworth](#bonus1)\n",
    "    * [a. Resolucion analitica](#bonus1a)\n",
    "* [Conclusiones generales](#conclusiones)"
   ]
  },
  {
   "cell_type": "markdown",
   "id": "d03a443c-de2a-4fe8-89f7-0c9fbca1a5ef",
   "metadata": {
    "tags": []
   },
   "source": [
    "## 0. Consigna <a class=\"anchor\" id=\"consigna\"></a>\n",
    "\n",
    "<img src=\"./img/TS4_Albanesi_ConsignaParte1.png\" width=\"400\" /> \n",
    "<img src=\"./img/TS4_Albanesi_ConsignaParte2.png\" width=\"800\" /> "
   ]
  },
  {
   "cell_type": "markdown",
   "id": "7d5e4a86-f5bc-44ab-947e-6698729a2aa0",
   "metadata": {},
   "source": [
    "## 1. Obtener transferencia para maxima planicidad <a class=\"anchor\" id=\"punto1\"></a>"
   ]
  },
  {
   "cell_type": "markdown",
   "id": "db0a3d67-48e4-4c2b-b6be-ed390b468932",
   "metadata": {
    "tags": []
   },
   "source": [
    "### a. Resolucion analitica <a class=\"anchor\" id=\"punto1a\"></a>"
   ]
  },
  {
   "cell_type": "code",
   "execution_count": 4,
   "id": "7eca84bd-ab8f-476f-b9cc-517c33a0636a",
   "metadata": {
    "tags": []
   },
   "outputs": [
    {
     "data": {
      "text/html": [
       "\n",
       "        <iframe\n",
       "            width=\"1000\"\n",
       "            height=\"1000\"\n",
       "            src=\"./doc/TS3_Albanesi_Punto1Analitico.pdf\"\n",
       "            frameborder=\"0\"\n",
       "            allowfullscreen\n",
       "            \n",
       "        ></iframe>\n",
       "        "
      ],
      "text/plain": [
       "<IPython.lib.display.IFrame at 0x255ff9b1dd0>"
      ]
     },
     "execution_count": 4,
     "metadata": {},
     "output_type": "execute_result"
    }
   ],
   "source": [
    "# Incorporacion y visualizacion de PDF\n",
    "from IPython.display import IFrame\n",
    "IFrame(\"./doc/TS3_Albanesi_Punto1Analitico.pdf\", width=1000, height=1000)"
   ]
  },
  {
   "cell_type": "markdown",
   "id": "9a2d1318-8dba-41eb-8410-ff531cde21f1",
   "metadata": {},
   "source": [
    "## 2. Diagrama de polos y ceros, respuesta en frecuencia <a class=\"anchor\" id=\"punto2\"></a>"
   ]
  },
  {
   "cell_type": "markdown",
   "id": "3b249fe9-2e9e-4508-b4e4-87ce35fb797d",
   "metadata": {},
   "source": [
    "### a. Resolucion analitica  <a class=\"anchor\" id=\"punto2a\"></a>"
   ]
  },
  {
   "cell_type": "code",
   "execution_count": 1,
   "id": "98ce4144-a1db-4cce-bed0-43234ea6f86b",
   "metadata": {
    "tags": []
   },
   "outputs": [
    {
     "data": {
      "text/html": [
       "\n",
       "        <iframe\n",
       "            width=\"1000\"\n",
       "            height=\"1000\"\n",
       "            src=\"./doc/TS3_Albanesi_Punto2Analitico.pdf\"\n",
       "            frameborder=\"0\"\n",
       "            allowfullscreen\n",
       "            \n",
       "        ></iframe>\n",
       "        "
      ],
      "text/plain": [
       "<IPython.lib.display.IFrame at 0x1b38235b9a0>"
      ]
     },
     "execution_count": 1,
     "metadata": {},
     "output_type": "execute_result"
    }
   ],
   "source": [
    "# Incorporacion y visualizacion de PDF\n",
    "from IPython.display import IFrame\n",
    "IFrame(\"./doc/TS3_Albanesi_Punto2Analitico.pdf\", width=1000, height=1000)"
   ]
  },
  {
   "cell_type": "markdown",
   "id": "e14982db-4eba-4eba-b714-3f87629f2cd5",
   "metadata": {},
   "source": [
    "### b. Simulacion numerica <a class=\"anchor\" id=\"punto2b\"></a>"
   ]
  },
  {
   "cell_type": "markdown",
   "id": "2315cd53-e479-4d84-8d11-9f8cd0d5622a",
   "metadata": {},
   "source": [
    "##### Importacion de librerias"
   ]
  },
  {
   "cell_type": "code",
   "execution_count": 3,
   "id": "0b7eadec-c2e9-4ee0-a702-0c014717540b",
   "metadata": {
    "tags": []
   },
   "outputs": [],
   "source": [
    "# Importacion de librerias a utilizar\n",
    "from pytc2.sistemas_lineales import pzmap, GroupDelay, bodePlot\n",
    "from scipy.signal import TransferFunction\n",
    "import numpy as np\n",
    "import matplotlib.pyplot as plt"
   ]
  },
  {
   "cell_type": "markdown",
   "id": "3b6da3b3-3daa-4f0a-ad17-15b524f31010",
   "metadata": {},
   "source": [
    "##### Inicializacion de graficos"
   ]
  },
  {
   "cell_type": "code",
   "execution_count": 4,
   "id": "b411a0c9-678b-4435-9fe1-4131916ffa2c",
   "metadata": {
    "tags": []
   },
   "outputs": [],
   "source": [
    "# Esta parte de código la agregamos SOLO en los notebooks para fijar el estilo de los gráficos.\n",
    "#\n",
    "#%%  Inicialización de librerías (esto NO es parte del script demo_seg_orden1.py)\n",
    "# Setup inline graphics: Esto lo hacemos para que el tamaño de la salida, \n",
    "# sea un poco más adecuada al tamaño del jupyter notebook documento\n",
    "\n",
    "# algún bug cuando lo hice:\n",
    "plt.figure(1)\n",
    "plt.close(1)\n",
    "\n",
    "import matplotlib as mpl\n",
    "\n",
    "fig_sz_x = 13\n",
    "fig_sz_y = 7\n",
    "fig_dpi = 80 # dpi\n",
    "fig_font_size = 16\n",
    "\n",
    "mpl.rcParams['figure.figsize'] = (fig_sz_x, fig_sz_y)\n",
    "mpl.rcParams['figure.dpi'] = fig_dpi\n",
    "plt.rcParams.update({'font.size':fig_font_size})\n",
    "\n",
    "#%%  Fin - Inicialización de librerías"
   ]
  },
  {
   "cell_type": "code",
   "execution_count": 5,
   "id": "ee2ba9af-98b1-46a4-a747-ffa41ac22d19",
   "metadata": {
    "tags": []
   },
   "outputs": [
    {
     "ename": "NameError",
     "evalue": "name 'TransferFunction' is not defined",
     "output_type": "error",
     "traceback": [
      "\u001b[1;31m---------------------------------------------------------------------------\u001b[0m",
      "\u001b[1;31mNameError\u001b[0m                                 Traceback (most recent call last)",
      "Cell \u001b[1;32mIn[5], line 2\u001b[0m\n\u001b[0;32m      1\u001b[0m \u001b[38;5;66;03m# Definicion de la funcion transferencia\u001b[39;00m\n\u001b[1;32m----> 2\u001b[0m my_tf \u001b[38;5;241m=\u001b[39m \u001b[43mTransferFunction\u001b[49m( [\u001b[38;5;241m1\u001b[39m], [\u001b[38;5;241m0.5\u001b[39m, \u001b[38;5;241m1.26\u001b[39m, \u001b[38;5;241m1.59\u001b[39m, \u001b[38;5;241m1\u001b[39m] )\n\u001b[0;32m      4\u001b[0m \u001b[38;5;66;03m# Grafico de polos y ceros\u001b[39;00m\n\u001b[0;32m      5\u001b[0m pzmap(my_tf, fig_id\u001b[38;5;241m=\u001b[39m\u001b[38;5;241m2\u001b[39m) \u001b[38;5;66;03m#S plane pole/zero plot\u001b[39;00m\n",
      "\u001b[1;31mNameError\u001b[0m: name 'TransferFunction' is not defined"
     ]
    }
   ],
   "source": [
    "# Definicion de la funcion transferencia\n",
    "my_tf = TransferFunction( [1], [0.5, 1.26, 1.59, 1] )\n",
    "\n",
    "# Grafico de polos y ceros\n",
    "pzmap(my_tf, fig_id=2) #S plane pole/zero plot\n",
    "\n",
    "# Grafico de bode\n",
    "bodePlot(my_tf, fig_id=1)"
   ]
  },
  {
   "cell_type": "markdown",
   "id": "dc5642c1-95af-4738-b33d-f78dc98c686a",
   "metadata": {
    "tags": []
   },
   "source": [
    "## 3. Implementar el circuito normalizado con estructuras pasivas separadas mediantes buffers <a class=\"anchor\" id=\"punto2\"></a>"
   ]
  },
  {
   "cell_type": "markdown",
   "id": "6dd38f53-79af-4fbc-bb01-178ef8043636",
   "metadata": {},
   "source": [
    "### a. Resolucion analitica  <a class=\"anchor\" id=\"punto3a\"></a>"
   ]
  },
  {
   "cell_type": "code",
   "execution_count": 2,
   "id": "0ba8cd0d-aed6-4cf0-bc41-8ffffd0584fe",
   "metadata": {},
   "outputs": [
    {
     "data": {
      "text/html": [
       "\n",
       "        <iframe\n",
       "            width=\"1000\"\n",
       "            height=\"1000\"\n",
       "            src=\"./doc/TS3_Albanesi_Punto3AnaliticoCorregido.pdf\"\n",
       "            frameborder=\"0\"\n",
       "            allowfullscreen\n",
       "            \n",
       "        ></iframe>\n",
       "        "
      ],
      "text/plain": [
       "<IPython.lib.display.IFrame at 0x1b38235b5e0>"
      ]
     },
     "execution_count": 2,
     "metadata": {},
     "output_type": "execute_result"
    }
   ],
   "source": [
    "# Incorporacion y visualizacion de PDF\n",
    "from IPython.display import IFrame\n",
    "IFrame(\"./doc/TS3_Albanesi_Punto3AnaliticoCorregido.pdf\", width=1000, height=1000)"
   ]
  },
  {
   "cell_type": "markdown",
   "id": "24c9770e-3f14-4aa8-96ff-0160d29c21a2",
   "metadata": {},
   "source": [
    "### b. Simulacion circuital  <a class=\"anchor\" id=\"punto3b\"></a>"
   ]
  },
  {
   "cell_type": "markdown",
   "id": "98219e2a-6e38-4ff8-9d6b-3f5d97f60914",
   "metadata": {},
   "source": [
    "#### Circuito o red\n",
    "\n",
    "<center> <img src=\"./img/TS3_Albanesi_Punto3CircuitoCorregido.png\" width=\"800\" /> </center>"
   ]
  },
  {
   "cell_type": "markdown",
   "id": "8eb4df1e-dbbd-4641-93c6-683d94e0597b",
   "metadata": {},
   "source": [
    "#### Simulacion\n",
    "\n",
    "<center> <img src=\"./img/TS3_Albanesi_Punto3SimulacionCorregida.png\" width=\"1000\" /> </center>"
   ]
  },
  {
   "cell_type": "markdown",
   "id": "f6d6f514-a5b5-49ba-b0a5-7c84a8454f63",
   "metadata": {},
   "source": [
    "## 4. Reemplazar inductores mediante GIC de Antoniou <a class=\"anchor\" id=\"bonus1\"></a>"
   ]
  },
  {
   "cell_type": "markdown",
   "id": "b890a968-3dfc-423d-afbe-78ea898f0ec8",
   "metadata": {},
   "source": [
    "### a. Resolucion analitica  <a class=\"anchor\" id=\"bonus1a\"></a>"
   ]
  },
  {
   "cell_type": "code",
   "execution_count": 6,
   "id": "e62ed2a1-e7a6-472f-bd90-ae9606e82a9d",
   "metadata": {
    "tags": []
   },
   "outputs": [
    {
     "data": {
      "text/html": [
       "\n",
       "        <iframe\n",
       "            width=\"1000\"\n",
       "            height=\"1000\"\n",
       "            src=\"./doc/TS3_Albanesi_Bonus1Analitico.pdf\"\n",
       "            frameborder=\"0\"\n",
       "            allowfullscreen\n",
       "            \n",
       "        ></iframe>\n",
       "        "
      ],
      "text/plain": [
       "<IPython.lib.display.IFrame at 0x1b38235b460>"
      ]
     },
     "execution_count": 6,
     "metadata": {},
     "output_type": "execute_result"
    }
   ],
   "source": [
    "# Incorporacion y visualizacion de PDF\n",
    "from IPython.display import IFrame\n",
    "IFrame(\"./doc/TS3_Albanesi_Bonus1Analitico.pdf\", width=1000, height=1000)"
   ]
  },
  {
   "cell_type": "markdown",
   "id": "7a58b8b9-eb99-42b5-9d2b-72c99404e465",
   "metadata": {},
   "source": [
    "## Conclusiones generales <a class=\"anchor\" id=\"conclusiones\"></a>"
   ]
  },
  {
   "cell_type": "markdown",
   "id": "4e76b063-118b-419d-a89a-b7759d33d481",
   "metadata": {},
   "source": [
    "Como conclusion, en general, pude obtener las transferencias solicitadas y lograr trabajar con las tipos de transferencias de maxima planicidad, comprobandolo luego con Python y LTSpice.\n",
    "\n",
    "Para la parte de implementacion de resistencias, capacitores y opamps, investigando, halle la forma de implementar la primera etapa con un amplificador Ackerberg-Mosberg lo cual me parecio muy interesante, ya que con esa configuracion se puede \"activar\" el inductor, es decir, simular la red pasiva RLC con una red activa.\n",
    "\n",
    "Ademas, luego utilizando la frecuencia de Butter $\\omega_B$, se puede llevar la transferencia de maxima planicidad con un $\\epsilon$ distinto de 1, a una forma de Butter, lo cual simplifica mucho el calculo y la desnormalizacion de los componentes.\n",
    "\n",
    "Previo a las correcciones realizadas, habia un error en la definicion de los componenetes normalizados, en base a la frecuencia del sistema y la factor Q, por lo cual los valores de los componentes eran errones. Esto provocaba que en el grafico de la amplitud se produzca una sobreelevacion, la cual indicaba claramente que en base a los componentes simulados no se obtenia la frecuencia angular y el factor Q deseados.\n",
    "Ademas, se agrego el uso de los cursores en LTSpice para verificar los resultados simulados y calculados teoricamente."
   ]
  }
 ],
 "metadata": {
  "kernelspec": {
   "display_name": "Python 3 (ipykernel)",
   "language": "python",
   "name": "python3"
  },
  "language_info": {
   "codemirror_mode": {
    "name": "ipython",
    "version": 3
   },
   "file_extension": ".py",
   "mimetype": "text/x-python",
   "name": "python",
   "nbconvert_exporter": "python",
   "pygments_lexer": "ipython3",
   "version": "3.11.2"
  }
 },
 "nbformat": 4,
 "nbformat_minor": 5
}
