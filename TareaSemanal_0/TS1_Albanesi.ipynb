{
 "cells": [
  {
   "cell_type": "markdown",
   "id": "2b3cae91-cefb-43cc-ac90-0a478a8a9ff5",
   "metadata": {},
   "source": [
    "<img src=\"./logo_UTN.svg\" align=\"right\" width=\"150\" /> \n",
    "\n",
    "#### Teoría de los Circuitos 2\n",
    "\n",
    "# Trabajo semanal 1\n",
    "#### Tomas Agustin Albanesi"
   ]
  },
  {
   "cell_type": "markdown",
   "id": "429d3a6e-3b82-439e-8a3d-595944d022a9",
   "metadata": {},
   "source": [
    "#### Punto 1"
   ]
  },
  {
   "cell_type": "code",
   "execution_count": null,
   "id": "769c4bf7-b99a-452f-ae3b-c0cc37ffd78f",
   "metadata": {},
   "outputs": [],
   "source": []
  }
 ],
 "metadata": {
  "kernelspec": {
   "display_name": "Python 3 (ipykernel)",
   "language": "python",
   "name": "python3"
  },
  "language_info": {
   "codemirror_mode": {
    "name": "ipython",
    "version": 3
   },
   "file_extension": ".py",
   "mimetype": "text/x-python",
   "name": "python",
   "nbconvert_exporter": "python",
   "pygments_lexer": "ipython3",
   "version": "3.10.0"
  }
 },
 "nbformat": 4,
 "nbformat_minor": 5
}
