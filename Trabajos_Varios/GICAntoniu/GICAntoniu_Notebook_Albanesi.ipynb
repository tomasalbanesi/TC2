{
 "cells": [
  {
   "cell_type": "markdown",
   "id": "edf3eb3d-06c0-4eec-aa08-99dc068667fc",
   "metadata": {},
   "source": [
    "# Analisis de GIC de Antoniu\n",
    "\n",
    "#### Por Tomas A. Albanesi"
   ]
  },
  {
   "cell_type": "markdown",
   "id": "f681c80c-94ee-4284-bf5f-f9c74068d9b5",
   "metadata": {},
   "source": [
    "## Indice de contenidos"
   ]
  },
  {
   "cell_type": "markdown",
   "id": "0363f6bf-08c9-4d3b-aece-0a9f188ec989",
   "metadata": {},
   "source": [
    "## 1. Introduccion"
   ]
  },
  {
   "cell_type": "markdown",
   "id": "c2392d72-ad14-4c42-aa2d-34cdf0abf5f5",
   "metadata": {},
   "source": [
    "La topologia denominada GIC (General Impedance Converter) fue introducida por el A. Antoniou en 1969.\n",
    "\n",
    "Esta topologia son circuitos o redes activas RC diseñadas para simular elementos dependientes de la frecuencia, como por ejemplo, inductancias, en sintesis de filtros activos. Sin embargo, no solo sirve para simular o \"activar\" inductores, sino que tambien se puede activar \"resistencias\" que dependen de la frecuencia."
   ]
  },
  {
   "cell_type": "markdown",
   "id": "37078b3f-a7fd-4fcc-b309-1c85004d601b",
   "metadata": {},
   "source": [
    "## 2. Topologia"
   ]
  },
  {
   "cell_type": "markdown",
   "id": "b061903a-9749-4580-9826-7795013c4ebb",
   "metadata": {},
   "source": [
    "Este circuito implementa la siguiente funcion transferencia de un pasabajos de segundo orden:\n",
    "    \n",
    "\\begin{equation}\n",
    "T(s) = \\frac{V_o(s)}{V_i(s)} = \\frac{K \\cdot \\omega_0^2}{s^2 + \\frac{\\omega_0}{Q} \\cdot s + \\omega_0^2}\n",
    "\\end{equation}"
   ]
  },
  {
   "cell_type": "markdown",
   "id": "639f15b5-24e1-49d1-bc37-2ac214a7303a",
   "metadata": {},
   "source": [
    "La topologia circuital es la siguiente:\n",
    "\n",
    "<center> <img src=\"./img/topologia.png\"> </center>"
   ]
  },
  {
   "cell_type": "markdown",
   "id": "26177afe-9cfa-47c9-8b73-1c76e1bf1c8c",
   "metadata": {},
   "source": [
    "## 3. Analisis teorico y simbolico"
   ]
  },
  {
   "cell_type": "markdown",
   "id": "5831a58e-d762-4e4e-912b-9ad65855c21f",
   "metadata": {},
   "source": [
    "Para comenzar el analisis teorico, planteamos las ecuaciones de nodos que gobiernan la red:\n",
    "\n",
    "- Nodo $V_x$\n",
    "\\begin{equation}\n",
    "V_x \\left (G_2 + sC \\right) - V_y \\left ( G_2\\right ) = 0\n",
    "\\end{equation}\n",
    "\n",
    "- Nodo $V_y$\n",
    "\\begin{equation}\n",
    "V_y \\left (G_2 + G_2 + sC \\right) - V_x \\left( G_2 \\right) - V_i \\left( G_1 \\right) - V_o \\left( sC \\right) = 0\n",
    "\\end{equation}\n",
    "\n",
    "- Nodo $V^-$\n",
    "\\begin{equation}\n",
    "V^- \\left (G_a + G_b \\right) - V_o \\left( G_b \\right) = 0\n",
    "\\end{equation}\n",
    "\n",
    "- Planteando realimentacion negativa\n",
    "\\begin{equation}\n",
    "V^+ = V^- = V_x\n",
    "\\end{equation}"
   ]
  },
  {
   "cell_type": "markdown",
   "id": "603d3e8a-41ec-4e14-af99-a5b27f33766f",
   "metadata": {},
   "source": [
    "Ya obtenidas las ecuaciones que gobiernan el comportamiento del circuito, podemos proceder a realizar los calculos simbolicos de forma analitica o mediante la utilizacion del modulo de calculo simbolico sympy, como se mostrara a continuacion:"
   ]
  },
  {
   "cell_type": "markdown",
   "id": "dad6818c-a1f1-463d-b5b2-90295f8ad6cf",
   "metadata": {},
   "source": [
    "<b>Importacion de modulos y configuraciones</b>"
   ]
  },
  {
   "cell_type": "code",
   "execution_count": 2,
   "id": "9b3cb9b3-7536-4720-a475-ea7818d94ea6",
   "metadata": {
    "tags": []
   },
   "outputs": [],
   "source": [
    "# Inicialización e importación de módulos\n",
    "\n",
    "# Módulos para Jupyter\n",
    "import warnings\n",
    "warnings.filterwarnings('ignore')\n",
    "\n",
    "# Módulos externos\n",
    "import matplotlib as mpl\n",
    "import matplotlib.pyplot as plt\n",
    "import numpy as np\n",
    "from scipy.signal import TransferFunction\n",
    "\n",
    "fig_sz_x = 8\n",
    "fig_sz_y = 6\n",
    "fig_dpi = 150 # dpi\n",
    "\n",
    "mpl.rcParams['figure.figsize'] = (fig_sz_x, fig_sz_y)\n",
    "mpl.rcParams['figure.dpi'] = fig_dpi\n",
    "\n",
    "plt.figure(1)\n",
    "plt.plot(np.random.rand(10))\n",
    "plt.close(1)\n",
    "\n",
    "# módulo de análisis simbólico\n",
    "import sympy as sp\n",
    "# variable de Laplace\n",
    "from sympy.abc import s\n",
    "from IPython.display import display, Math, Markdown\n",
    "\n",
    "# Ahora importamos las funciones de PyTC2\n",
    "from pytc2.sistemas_lineales import simplify_n_monic, parametrize_sos\n",
    "from pytc2.general import print_subtitle"
   ]
  },
  {
   "cell_type": "code",
   "execution_count": 5,
   "id": "443c8f8e-272a-46c2-bf3c-2fb87138b77a",
   "metadata": {
    "tags": []
   },
   "outputs": [
    {
     "data": {
      "text/markdown": [
       "#### Transferencia obtenida"
      ],
      "text/plain": [
       "<IPython.core.display.Markdown object>"
      ]
     },
     "metadata": {},
     "output_type": "display_data"
    },
    {
     "data": {
      "text/latex": [
       "$\\displaystyle  \\frac{V_o}{V_i} = \\frac{Ga + Gb}{Gb} \\frac{G_{1} G_{2}}{C^{2} \\left(s^{2} + \\frac{s \\left(G_{1} Gb - G_{2} Ga + G_{2} Gb\\right)}{C Gb} + \\frac{G_{1} G_{2}}{C^{2}}\\right)}$"
      ],
      "text/plain": [
       "<IPython.core.display.Math object>"
      ]
     },
     "metadata": {},
     "output_type": "display_data"
    },
    {
     "data": {
      "text/markdown": [
       "#### Parámetros"
      ],
      "text/plain": [
       "<IPython.core.display.Markdown object>"
      ]
     },
     "metadata": {},
     "output_type": "display_data"
    },
    {
     "data": {
      "text/latex": [
       "$\\displaystyle  k = \\frac{Ga + Gb}{Gb}$"
      ],
      "text/plain": [
       "<IPython.core.display.Math object>"
      ]
     },
     "metadata": {},
     "output_type": "display_data"
    },
    {
     "data": {
      "text/latex": [
       "$\\displaystyle  \\omega_0 = \\sqrt{\\frac{G_{1} G_{2}}{C^{2}}}$"
      ],
      "text/plain": [
       "<IPython.core.display.Math object>"
      ]
     },
     "metadata": {},
     "output_type": "display_data"
    },
    {
     "data": {
      "text/latex": [
       "$\\displaystyle  Q = \\frac{C Gb \\sqrt{\\frac{G_{1} G_{2}}{C^{2}}}}{G_{1} Gb - G_{2} Ga + G_{2} Gb}$"
      ],
      "text/plain": [
       "<IPython.core.display.Math object>"
      ]
     },
     "metadata": {},
     "output_type": "display_data"
    }
   ],
   "source": [
    "# Variables simbólicas\n",
    "s = sp.symbols('s', complex=True)\n",
    "Vx, Vy, Vi, Vo = sp.symbols(\"Vx, Vy, Vi, Vo\")\n",
    "G1, G2, Ga, Gb, C = sp.symbols(\"G1, G2, Ga, Gb, C\")\n",
    "\n",
    "# Sistemas de ecuaciones del modelo ideal, negativamente realimentado, lado derecho igual a cero\n",
    "aa = sp.solve([ \n",
    "                Vy*(G1 + G2 + s*C) - Vi * G1 - Vx * G2 - Vo * s*C, \n",
    "                -Vy*G2 + Vx * (G2 + s*C),\n",
    "                -Vo*Gb + Vx * (Ga + Gb)\n",
    "                ], \n",
    "                [Vo, Vi, Vx, Vy])\n",
    "\n",
    "# Transferencia\n",
    "T = aa[Vo]/aa[Vi]\n",
    "\n",
    "# Calculo de numerador y denominador\n",
    "num, den = sp.fraction(sp.simplify(sp.expand(T)))\n",
    "num = sp.Poly(num,s)\n",
    "den = sp.Poly(den,s)\n",
    "num1, den1, w_on, Q_n, w_od, Q_d, k1 = parametrize_sos(num, den)\n",
    "\n",
    "print_subtitle('Transferencia obtenida')\n",
    "\n",
    "display(Math( r' \\frac{V_o}{V_i} = ' + sp.latex(sp.Mul(k1, num1/den1, evaluate=False)) ))\n",
    "\n",
    "print_subtitle('Parámetros')\n",
    "\n",
    "display(Math( r' k = ' + sp.latex(k1) ))\n",
    "\n",
    "display(Math( r' \\omega_0 = ' + sp.latex(w_od) ))\n",
    "\n",
    "display(Math( r' Q = ' + sp.latex(Q_d) ))"
   ]
  },
  {
   "cell_type": "markdown",
   "id": "76a31cc5-6ffb-43a1-96ad-ecd6c5d7c273",
   "metadata": {},
   "source": [
    "En el caso de que igualemos todos los parametros resistivos a un solo valor, es decir:\n",
    "\n",
    "$R_a = \\frac{1}{G_a} = R_1 = R_2 = R$ \n",
    "\n",
    "y por otro lado, dejamos libre el parametro $R_b$ para poder manipular la ganancia, los parametros de la red nos quedan de la siguiente forma:\n",
    "\n",
    "\\begin{equation}\n",
    "K = 1 + \\frac{R}{R_b}\n",
    "\\end{equation}\n",
    "\n",
    "\\begin{equation}\n",
    "\\omega_0 = \\frac{1}{RC}\n",
    "\\end{equation}\n",
    "\n",
    "\\begin{equation}\n",
    "Q = \\frac{1}{3 - K}\n",
    "\\end{equation}"
   ]
  },
  {
   "cell_type": "markdown",
   "id": "19bec480-1b5e-46ce-9466-000aa423fc10",
   "metadata": {},
   "source": [
    "## 4. Simulacion numerica"
   ]
  },
  {
   "cell_type": "markdown",
   "id": "9b1d94fc-af3b-441a-a66f-f76585340286",
   "metadata": {
    "tags": []
   },
   "source": [
    "## 5. Simulacion circuital"
   ]
  },
  {
   "cell_type": "markdown",
   "id": "3fba8ac9-06e2-4721-a28f-d00721022b1b",
   "metadata": {},
   "source": [
    "## Bibliografia & Referencias"
   ]
  },
  {
   "cell_type": "code",
   "execution_count": null,
   "id": "43d9e032-2480-457e-aaca-baf1a378ada8",
   "metadata": {},
   "outputs": [],
   "source": []
  }
 ],
 "metadata": {
  "kernelspec": {
   "display_name": "Python 3 (ipykernel)",
   "language": "python",
   "name": "python3"
  },
  "language_info": {
   "codemirror_mode": {
    "name": "ipython",
    "version": 3
   },
   "file_extension": ".py",
   "mimetype": "text/x-python",
   "name": "python",
   "nbconvert_exporter": "python",
   "pygments_lexer": "ipython3",
   "version": "3.11.2"
  }
 },
 "nbformat": 4,
 "nbformat_minor": 5
}
