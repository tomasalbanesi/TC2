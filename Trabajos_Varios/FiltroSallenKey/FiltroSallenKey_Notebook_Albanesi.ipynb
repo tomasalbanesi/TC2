{
 "cells": [
  {
   "cell_type": "markdown",
   "id": "edf3eb3d-06c0-4eec-aa08-99dc068667fc",
   "metadata": {},
   "source": [
    "<img src=\"./img/logo_UTN.svg\" align=\"right\" width=\"150\" /> \n",
    "\n",
    "# Filtro Sallen Key\n",
    "\n",
    "#### Tomas A. Albanesi"
   ]
  },
  {
   "cell_type": "markdown",
   "id": "0363f6bf-08c9-4d3b-aece-0a9f188ec989",
   "metadata": {},
   "source": [
    "## Introduccion"
   ]
  },
  {
   "cell_type": "code",
   "execution_count": null,
   "id": "472a1a6e-98fb-43ef-a169-671fe38f28b3",
   "metadata": {},
   "outputs": [],
   "source": []
  },
  {
   "cell_type": "markdown",
   "id": "83413c65-9885-467b-9a39-9d1652e4da70",
   "metadata": {},
   "source": [
    "## Topologia"
   ]
  },
  {
   "cell_type": "code",
   "execution_count": null,
   "id": "32ba1183-dc67-4db8-ba78-39e9ba29ec3d",
   "metadata": {},
   "outputs": [],
   "source": [
    "import schemedraw\n",
    "import schemedraw.elements as em"
   ]
  },
  {
   "cell_type": "code",
   "execution_count": null,
   "id": "867ef769-ef01-46d7-88c3-27334429bcdd",
   "metadata": {},
   "outputs": [],
   "source": []
  },
  {
   "cell_type": "markdown",
   "id": "3fba8ac9-06e2-4721-a28f-d00721022b1b",
   "metadata": {},
   "source": [
    "## Bibliografia & Referencias"
   ]
  },
  {
   "cell_type": "code",
   "execution_count": null,
   "id": "43d9e032-2480-457e-aaca-baf1a378ada8",
   "metadata": {},
   "outputs": [],
   "source": []
  }
 ],
 "metadata": {
  "kernelspec": {
   "display_name": "Python 3 (ipykernel)",
   "language": "python",
   "name": "python3"
  },
  "language_info": {
   "codemirror_mode": {
    "name": "ipython",
    "version": 3
   },
   "file_extension": ".py",
   "mimetype": "text/x-python",
   "name": "python",
   "nbconvert_exporter": "python",
   "pygments_lexer": "ipython3",
   "version": "3.11.2"
  }
 },
 "nbformat": 4,
 "nbformat_minor": 5
}
